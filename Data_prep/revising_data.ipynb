{
 "cells": [
  {
   "cell_type": "markdown",
   "metadata": {},
   "source": [
    "# Revising manuscript. \n",
    "## Data preparing according to reviewer's comments."
   ]
  },
  {
   "cell_type": "code",
   "execution_count": 79,
   "metadata": {},
   "outputs": [],
   "source": [
    "import pandas as pd"
   ]
  },
  {
   "cell_type": "code",
   "execution_count": 105,
   "metadata": {},
   "outputs": [
    {
     "name": "stdout",
     "output_type": "stream",
     "text": [
      "<class 'pandas.core.frame.DataFrame'>\n",
      "RangeIndex: 969 entries, 0 to 968\n",
      "Data columns (total 41 columns):\n",
      "adaptation                                816 non-null float64\n",
      "avg_isi                                   889 non-null float64\n",
      "f_i_curve_slope                           969 non-null float64\n",
      "fast_trough_t_long_square                 969 non-null float64\n",
      "fast_trough_t_ramp                        934 non-null float64\n",
      "fast_trough_t_short_square                969 non-null float64\n",
      "fast_trough_v_long_square                 969 non-null float64\n",
      "fast_trough_v_ramp                        934 non-null float64\n",
      "fast_trough_v_short_square                969 non-null float64\n",
      "latency                                   969 non-null float64\n",
      "peak_t_long_square                        969 non-null float64\n",
      "peak_t_ramp                               934 non-null float64\n",
      "peak_t_short_square                       969 non-null float64\n",
      "peak_v_long_square                        969 non-null float64\n",
      "peak_v_ramp                               934 non-null float64\n",
      "peak_v_short_square                       969 non-null float64\n",
      "ri                                        969 non-null float64\n",
      "sag                                       969 non-null float64\n",
      "threshold_i_long_square                   969 non-null float64\n",
      "threshold_i_ramp                          934 non-null float64\n",
      "threshold_i_short_square                  969 non-null float64\n",
      "threshold_t_long_square                   969 non-null float64\n",
      "threshold_t_ramp                          934 non-null float64\n",
      "threshold_t_short_square                  969 non-null float64\n",
      "threshold_v_long_square                   969 non-null float64\n",
      "threshold_v_ramp                          934 non-null float64\n",
      "threshold_v_short_square                  969 non-null float64\n",
      "trough_t_long_square                      969 non-null float64\n",
      "trough_t_ramp                             934 non-null float64\n",
      "trough_t_short_square                     969 non-null float64\n",
      "trough_v_long_square                      969 non-null float64\n",
      "trough_v_ramp                             934 non-null float64\n",
      "trough_v_short_square                     969 non-null float64\n",
      "upstroke_downstroke_ratio_long_square     969 non-null float64\n",
      "upstroke_downstroke_ratio_ramp            934 non-null float64\n",
      "upstroke_downstroke_ratio_short_square    969 non-null float64\n",
      "vrest                                     969 non-null float64\n",
      "transgenic_line                           969 non-null object\n",
      "reporter_status                           969 non-null object\n",
      "firing_rate                               889 non-null float64\n",
      "binary_neuron                             969 non-null object\n",
      "dtypes: float64(38), object(3)\n",
      "memory usage: 310.5+ KB\n"
     ]
    }
   ],
   "source": [
    "cre = pd.read_csv('ephys_data_cre.csv')\n",
    "# as review 2 minor commemts # 11 . technical values removed.\n",
    "cre = cre.drop(['height', 'input_resistance_mohm', 'vm_for_sag', 'slow_trough_t_short_square', 'slow_trough_v_short_square'], axis=1)\n",
    "cre.info()"
   ]
  },
  {
   "cell_type": "code",
   "execution_count": 81,
   "metadata": {},
   "outputs": [],
   "source": [
    "cre_dropna = cre.dropna(axis=0, how='any')"
   ]
  },
  {
   "cell_type": "code",
   "execution_count": 82,
   "metadata": {},
   "outputs": [
    {
     "data": {
      "text/plain": [
       "Chat-IRES-Cre-neo    11\n",
       "Chrna2-Cre_OE25       1\n",
       "Ctgf-T2A-dgCre        0\n",
       "Cux2-CreERT2         13\n",
       "Gad2-IRES-Cre         4\n",
       "Htr3a-Cre_NO152      16\n",
       "Ndnf-IRES2-dgCre      1\n",
       "Nkx2-1-CreERT2        1\n",
       "Nr5a1-Cre             9\n",
       "Ntsr1-Cre_GN220      15\n",
       "Pvalb-IRES-Cre       38\n",
       "Rbp4-Cre_KL100       13\n",
       "Rorb-IRES2-Cre       14\n",
       "Scnn1a-Tg2-Cre        3\n",
       "Scnn1a-Tg3-Cre        7\n",
       "Slc17a6-IRES-Cre      1\n",
       "Sst-IRES-Cre         20\n",
       "Vip-IRES-Cre          1\n",
       "Name: transgenic_line, dtype: int64"
      ]
     },
     "execution_count": 82,
     "metadata": {},
     "output_type": "execute_result"
    }
   ],
   "source": [
    "a = cre['transgenic_line'].value_counts()\n",
    "b= cre_dropna['transgenic_line'].value_counts()\n",
    "a - b"
   ]
  },
  {
   "cell_type": "code",
   "execution_count": 83,
   "metadata": {},
   "outputs": [
    {
     "data": {
      "text/plain": [
       "Chat-IRES-Cre-neo    0.550000\n",
       "Chrna2-Cre_OE25      0.032258\n",
       "Ctgf-T2A-dgCre       0.000000\n",
       "Cux2-CreERT2         0.178082\n",
       "Gad2-IRES-Cre        0.363636\n",
       "Htr3a-Cre_NO152      0.179775\n",
       "Ndnf-IRES2-dgCre     0.066667\n",
       "Nkx2-1-CreERT2       0.043478\n",
       "Nr5a1-Cre            0.130435\n",
       "Ntsr1-Cre_GN220      0.312500\n",
       "Pvalb-IRES-Cre       0.267606\n",
       "Rbp4-Cre_KL100       0.180556\n",
       "Rorb-IRES2-Cre       0.116667\n",
       "Scnn1a-Tg2-Cre       0.083333\n",
       "Scnn1a-Tg3-Cre       0.116667\n",
       "Slc17a6-IRES-Cre     0.333333\n",
       "Sst-IRES-Cre         0.180180\n",
       "Vip-IRES-Cre         0.050000\n",
       "Name: transgenic_line, dtype: float64"
      ]
     },
     "execution_count": 83,
     "metadata": {},
     "output_type": "execute_result"
    }
   ],
   "source": [
    "(a-b)/a"
   ]
  },
  {
   "cell_type": "markdown",
   "metadata": {},
   "source": [
    "adaptation                                816 non-null float64\n"
   ]
  },
  {
   "cell_type": "code",
   "execution_count": 84,
   "metadata": {},
   "outputs": [
    {
     "data": {
      "text/plain": [
       "0      3.300000\n",
       "1      3.480000\n",
       "2      3.475000\n",
       "3      3.508333\n",
       "4      3.560000\n",
       "5      3.597000\n",
       "6      3.541000\n",
       "7      3.311000\n",
       "8      3.390000\n",
       "9      3.570000\n",
       "10     3.478000\n",
       "11     3.030625\n",
       "12     3.508333\n",
       "13     3.841667\n",
       "14     3.140000\n",
       "15     3.462000\n",
       "16     3.427500\n",
       "17     3.160000\n",
       "18     3.318750\n",
       "19     3.580000\n",
       "20     3.336000\n",
       "21     3.432000\n",
       "22     3.256667\n",
       "23     3.460000\n",
       "24     3.657000\n",
       "25     3.525000\n",
       "26     3.320000\n",
       "27     3.673333\n",
       "28     3.672000\n",
       "29     3.344000\n",
       "         ...   \n",
       "939    3.430000\n",
       "940    3.392000\n",
       "941    3.365000\n",
       "942    3.735000\n",
       "943    3.420000\n",
       "944    3.373000\n",
       "945    3.436250\n",
       "946    3.405000\n",
       "947    3.410000\n",
       "948    3.280000\n",
       "949    3.515000\n",
       "950    3.385000\n",
       "951    3.342500\n",
       "952    3.215000\n",
       "953    3.227000\n",
       "954    3.710000\n",
       "955    3.448750\n",
       "956    3.315000\n",
       "957    3.552000\n",
       "958    3.524000\n",
       "959    3.343750\n",
       "960    3.292000\n",
       "961    3.447500\n",
       "962    3.303000\n",
       "963    3.493750\n",
       "964    3.413750\n",
       "965    3.576000\n",
       "966    3.410000\n",
       "967    3.445000\n",
       "968    3.592000\n",
       "Name: peak_t_short_square, Length: 969, dtype: float64"
      ]
     },
     "execution_count": 84,
     "metadata": {},
     "output_type": "execute_result"
    }
   ],
   "source": [
    "cre['peak_t_short_square']= (cre['peak_t_short_square']-1.02)*1000\n",
    "cre['peak_t_short_square']\n",
    "# make time unit as 3ms, short square pulse stimuli applied 3ms, so the start of stimuli set to zero."
   ]
  },
  {
   "cell_type": "code",
   "execution_count": 85,
   "metadata": {},
   "outputs": [
    {
     "data": {
      "text/plain": [
       "0      2.913333\n",
       "1      3.159000\n",
       "2      3.001000\n",
       "3      3.130000\n",
       "4      3.120000\n",
       "5      2.979000\n",
       "6      3.197000\n",
       "7      3.032000\n",
       "8      3.010000\n",
       "9      3.142000\n",
       "10     2.943000\n",
       "11     2.731875\n",
       "12     3.150000\n",
       "13     3.266667\n",
       "14     2.917000\n",
       "15     2.979000\n",
       "16     3.043750\n",
       "17     2.746667\n",
       "18     3.002500\n",
       "19     3.103000\n",
       "20     2.946000\n",
       "21     3.123000\n",
       "22     2.856667\n",
       "23     3.104000\n",
       "24     3.137000\n",
       "25     3.155000\n",
       "26     2.970000\n",
       "27     3.191667\n",
       "28     3.168000\n",
       "29     2.985000\n",
       "         ...   \n",
       "939    3.055000\n",
       "940    3.055000\n",
       "941    2.948333\n",
       "942    3.289000\n",
       "943    3.092500\n",
       "944    3.033000\n",
       "945    3.061250\n",
       "946    3.046000\n",
       "947    3.025000\n",
       "948    2.970000\n",
       "949    3.114000\n",
       "950    3.055000\n",
       "951    3.040000\n",
       "952    2.895000\n",
       "953    2.994000\n",
       "954    3.190000\n",
       "955    3.090000\n",
       "956    3.053000\n",
       "957    3.120000\n",
       "958    3.144000\n",
       "959    2.983750\n",
       "960    3.008000\n",
       "961    3.077500\n",
       "962    3.033000\n",
       "963    3.192500\n",
       "964    3.025000\n",
       "965    3.132000\n",
       "966    3.095000\n",
       "967    3.065000\n",
       "968    3.164000\n",
       "Name: threshold_t_short_square, Length: 969, dtype: float64"
      ]
     },
     "execution_count": 85,
     "metadata": {},
     "output_type": "execute_result"
    }
   ],
   "source": [
    "cre['threshold_t_short_square'] = (cre['threshold_t_short_square']-1.02)*1000\n",
    "cre['threshold_t_short_square']"
   ]
  },
  {
   "cell_type": "code",
   "execution_count": 86,
   "metadata": {},
   "outputs": [
    {
     "data": {
      "text/plain": [
       "0      4.873333\n",
       "1      4.593000\n",
       "2      7.302000\n",
       "3      4.665833\n",
       "4      5.426667\n",
       "5      5.615000\n",
       "6      4.461000\n",
       "7      4.103000\n",
       "8      4.870000\n",
       "9      5.506000\n",
       "10     5.854000\n",
       "11     3.790625\n",
       "12     4.195833\n",
       "13     5.882500\n",
       "14     3.625000\n",
       "15     5.411000\n",
       "16     4.420000\n",
       "17     4.846667\n",
       "18     4.180000\n",
       "19     5.553000\n",
       "20     5.011000\n",
       "21     4.358000\n",
       "22     4.471667\n",
       "23     5.428000\n",
       "24     7.009000\n",
       "25     4.895000\n",
       "26     4.625000\n",
       "27     6.062500\n",
       "28     5.740000\n",
       "29     4.485000\n",
       "         ...   \n",
       "939    4.815000\n",
       "940    4.841000\n",
       "941    5.006667\n",
       "942    6.266000\n",
       "943    5.032500\n",
       "944    4.921000\n",
       "945    9.810000\n",
       "946    6.005000\n",
       "947    5.352500\n",
       "948    4.520000\n",
       "949    7.092000\n",
       "950    4.130000\n",
       "951    8.495000\n",
       "952    4.122500\n",
       "953    3.877000\n",
       "954    6.587857\n",
       "955    5.132500\n",
       "956    3.969000\n",
       "957    5.192000\n",
       "958    5.352000\n",
       "959    5.056250\n",
       "960    4.348000\n",
       "961    9.131250\n",
       "962    3.975000\n",
       "963    4.292500\n",
       "964    5.281250\n",
       "965    5.360000\n",
       "966    4.603750\n",
       "967    4.965000\n",
       "968    5.576000\n",
       "Name: fast_trough_t_short_square, Length: 969, dtype: float64"
      ]
     },
     "execution_count": 86,
     "metadata": {},
     "output_type": "execute_result"
    }
   ],
   "source": [
    "cre['fast_trough_t_short_square'] = (cre['fast_trough_t_short_square']-1.02)*1000\n",
    "cre['fast_trough_t_short_square']"
   ]
  },
  {
   "cell_type": "code",
   "execution_count": 101,
   "metadata": {},
   "outputs": [
    {
     "data": {
      "text/plain": [
       "0      324.913333\n",
       "1      213.473000\n",
       "2      671.744000\n",
       "3      475.571667\n",
       "4      110.500000\n",
       "5      453.574000\n",
       "6      527.561000\n",
       "7      436.287000\n",
       "8      489.350000\n",
       "9      231.151000\n",
       "10     557.570000\n",
       "11     343.485625\n",
       "12     377.621667\n",
       "13      34.124167\n",
       "14     673.986000\n",
       "15     391.247000\n",
       "16     291.541250\n",
       "17     811.826667\n",
       "18     230.333750\n",
       "19     426.244000\n",
       "20     592.528000\n",
       "21     395.886000\n",
       "22     810.231667\n",
       "23     585.676000\n",
       "24     505.379000\n",
       "25     518.510000\n",
       "26     835.710000\n",
       "27     527.079167\n",
       "28      97.364000\n",
       "29     720.821000\n",
       "          ...    \n",
       "939    669.315000\n",
       "940    510.804000\n",
       "941    689.963333\n",
       "942    338.333000\n",
       "943    446.345000\n",
       "944    510.155000\n",
       "945     27.485000\n",
       "946    129.956000\n",
       "947     66.213333\n",
       "948    585.140000\n",
       "949    589.005000\n",
       "950    227.725000\n",
       "951    179.678750\n",
       "952      4.257500\n",
       "953    612.955000\n",
       "954    618.815000\n",
       "955    619.258750\n",
       "956    561.903000\n",
       "957    584.992000\n",
       "958    124.844000\n",
       "959    682.153750\n",
       "960    458.228000\n",
       "961    512.405000\n",
       "962     68.214000\n",
       "963     26.291250\n",
       "964    657.151250\n",
       "965    711.604000\n",
       "966    563.697500\n",
       "967    722.640000\n",
       "968    283.492000\n",
       "Name: trough_t_short_square, Length: 969, dtype: float64"
      ]
     },
     "execution_count": 101,
     "metadata": {},
     "output_type": "execute_result"
    }
   ],
   "source": [
    "cre['trough_t_short_square'] = (cre['trough_t_short_square']-1.02)*1000\n",
    "cre['trough_t_short_square']"
   ]
  },
  {
   "cell_type": "code",
   "execution_count": 93,
   "metadata": {},
   "outputs": [],
   "source": [
    "cre['threshold_t_long_square'] = (cre['threshold_t_long_square']-1.02)*1000\n",
    "cre['peak_t_long_square'] = (cre['peak_t_long_square']-1.02)*1000\n",
    "cre['fast_trough_t_long_square'] = (cre['fast_trough_t_long_square']-1.02)*1000\n",
    "cre['trough_t_long_square'] = (cre['trough_t_long_square']-1.02)*1000\n",
    "# make time unit as ms, long square pulse stimuli applied for 1 s from 100 ms of sweep\n",
    "# the start of stimuli set to zero."
   ]
  },
  {
   "cell_type": "code",
   "execution_count": 102,
   "metadata": {},
   "outputs": [],
   "source": [
    "cre['threshold_t_ramp'] = cre['threshold_t_ramp'] - 1.02\n",
    "cre['peak_t_ramp'] = cre['peak_t_ramp'] -1.02\n",
    "cre['fast_trough_t_ramp'] = cre['fast_trough_t_ramp'] - 1.02\n",
    "cre['trough_t_ramp'] = cre['trough_t_ramp'] - 1.02\n",
    "# ramp stimuli applied from 1.0 s of sweep\n",
    "# the start of stimuli set to zero."
   ]
  },
  {
   "cell_type": "code",
   "execution_count": 106,
   "metadata": {},
   "outputs": [],
   "source": [
    "cre['height_short'] = cre['peak_v_short_square'] -cre['fast_trough_v_short_square']\n",
    "cre['height_long'] = cre['peak_v_long_square'] - cre['fast_trough_v_long_square']\n",
    "cre['height_ramp'] = cre['peak_v_ramp'] - cre['fast_trough_v_ramp']"
   ]
  },
  {
   "cell_type": "code",
   "execution_count": 111,
   "metadata": {},
   "outputs": [
    {
     "data": {
      "text/plain": [
       "<bound method Series.mean of 0       0.187496\n",
       "1     -22.099999\n",
       "2      -2.700003\n",
       "3      -8.223962\n",
       "4      -9.635417\n",
       "5      -6.293752\n",
       "6      -6.718746\n",
       "7     -13.662500\n",
       "8      -4.562498\n",
       "9      -8.037503\n",
       "10     -4.874999\n",
       "11     -3.972647\n",
       "12     -0.749999\n",
       "13    -11.859377\n",
       "14    -13.056254\n",
       "15     -4.850003\n",
       "16     -2.234374\n",
       "17     -2.489583\n",
       "18     -3.273437\n",
       "19     -7.656248\n",
       "20    -10.331248\n",
       "21     -0.293748\n",
       "22     -1.500002\n",
       "23     -8.206251\n",
       "24    -10.037502\n",
       "25     -3.007812\n",
       "26     -2.718750\n",
       "27     -6.911457\n",
       "28     -9.443750\n",
       "29     -1.706247\n",
       "         ...    \n",
       "939    -6.218749\n",
       "940    -6.118752\n",
       "941     6.052085\n",
       "942    -7.125002\n",
       "943   -27.765625\n",
       "944    -3.981248\n",
       "945    -4.148438\n",
       "946    -5.131252\n",
       "947    -8.656249\n",
       "948    -2.007816\n",
       "949    -9.474995\n",
       "950    -4.367189\n",
       "951   -11.320311\n",
       "952   -13.906254\n",
       "953    -4.537498\n",
       "954    -7.058038\n",
       "955    -9.882810\n",
       "956   -15.675001\n",
       "957   -10.212505\n",
       "958    -3.600000\n",
       "959    -0.414067\n",
       "960   -11.150001\n",
       "961   -13.718753\n",
       "962    -9.350000\n",
       "963    -7.437502\n",
       "964   -10.773438\n",
       "965    -6.118749\n",
       "966    -1.601565\n",
       "967    -3.507812\n",
       "968   -17.656255\n",
       "Length: 969, dtype: float64>"
      ]
     },
     "execution_count": 111,
     "metadata": {},
     "output_type": "execute_result"
    }
   ],
   "source": [
    "(cre['height_long'] - cre['height_short']).mean"
   ]
  },
  {
   "cell_type": "code",
   "execution_count": 113,
   "metadata": {},
   "outputs": [
    {
     "data": {
      "text/plain": [
       "<bound method Series.mean of 0      -0.833333\n",
       "1     -20.000001\n",
       "2      -7.718753\n",
       "3       3.843746\n",
       "4      -1.875001\n",
       "5     -10.916670\n",
       "6       2.427087\n",
       "7      -0.020831\n",
       "8      -3.458332\n",
       "9     -16.208337\n",
       "10     -1.562497\n",
       "11           NaN\n",
       "12      2.197920\n",
       "13     -9.645837\n",
       "14     14.249996\n",
       "15     -3.635420\n",
       "16     -4.249997\n",
       "17     -2.062499\n",
       "18     -0.552080\n",
       "19      3.520835\n",
       "20      7.552085\n",
       "21      2.875002\n",
       "22     -0.812500\n",
       "23     -4.624996\n",
       "24     -5.104167\n",
       "25     -0.937500\n",
       "26     -0.187496\n",
       "27           NaN\n",
       "28     -3.979164\n",
       "29      1.250004\n",
       "         ...    \n",
       "939    -1.197917\n",
       "940     3.781252\n",
       "941     3.552086\n",
       "942    -4.250003\n",
       "943   -15.895835\n",
       "944    -6.458330\n",
       "945   -10.729166\n",
       "946    -2.364583\n",
       "947    -3.291666\n",
       "948     0.291660\n",
       "949    -4.218744\n",
       "950     4.999998\n",
       "951    -7.124999\n",
       "952   -15.687505\n",
       "953     7.833336\n",
       "954   -13.145835\n",
       "955    -0.604164\n",
       "956     8.656252\n",
       "957    -4.197919\n",
       "958    -2.447918\n",
       "959     0.156244\n",
       "960     4.250002\n",
       "961   -10.531254\n",
       "962    24.125000\n",
       "963    13.953124\n",
       "964   -11.302085\n",
       "965    -4.322918\n",
       "966    -4.989583\n",
       "967    -4.760415\n",
       "968   -11.729170\n",
       "Length: 969, dtype: float64>"
      ]
     },
     "execution_count": 113,
     "metadata": {},
     "output_type": "execute_result"
    }
   ],
   "source": [
    "(cre['height_long'] - cre['height_ramp']).mean"
   ]
  },
  {
   "cell_type": "code",
   "execution_count": 115,
   "metadata": {},
   "outputs": [
    {
     "data": {
      "text/plain": [
       "<bound method Series.mean of 0       1.020830\n",
       "1      -2.099998\n",
       "2       5.018749\n",
       "3     -12.067707\n",
       "4      -7.760415\n",
       "5       4.622918\n",
       "6      -9.145833\n",
       "7     -13.641668\n",
       "8      -1.104166\n",
       "9       8.170833\n",
       "10     -3.312502\n",
       "11           NaN\n",
       "12     -2.947919\n",
       "13     -2.213540\n",
       "14    -27.306250\n",
       "15     -1.214583\n",
       "16      2.015624\n",
       "17     -0.427085\n",
       "18     -2.721357\n",
       "19    -11.177083\n",
       "20    -17.883333\n",
       "21     -3.168750\n",
       "22     -0.687502\n",
       "23     -3.581255\n",
       "24     -4.933336\n",
       "25     -2.070312\n",
       "26     -2.531254\n",
       "27           NaN\n",
       "28     -5.464586\n",
       "29     -2.956251\n",
       "         ...    \n",
       "939    -5.020832\n",
       "940    -9.900003\n",
       "941     2.499999\n",
       "942    -2.874999\n",
       "943   -11.869790\n",
       "944     2.477082\n",
       "945     6.580729\n",
       "946    -2.766668\n",
       "947    -5.364583\n",
       "948    -2.299477\n",
       "949    -5.256251\n",
       "950    -9.367187\n",
       "951    -4.195312\n",
       "952     1.781251\n",
       "953   -12.370834\n",
       "954     6.087796\n",
       "955    -9.278646\n",
       "956   -24.331252\n",
       "957    -6.014586\n",
       "958    -1.152082\n",
       "959    -0.570312\n",
       "960   -15.400003\n",
       "961    -3.187499\n",
       "962   -33.475000\n",
       "963   -21.390626\n",
       "964     0.528647\n",
       "965    -1.795831\n",
       "966     3.388018\n",
       "967     1.252603\n",
       "968    -5.927085\n",
       "Length: 969, dtype: float64>"
      ]
     },
     "execution_count": 115,
     "metadata": {},
     "output_type": "execute_result"
    }
   ],
   "source": [
    "(cre['height_ramp'] - cre['height_short']).mean"
   ]
  },
  {
   "cell_type": "code",
   "execution_count": 116,
   "metadata": {},
   "outputs": [
    {
     "name": "stdout",
     "output_type": "stream",
     "text": [
      "<class 'pandas.core.frame.DataFrame'>\n",
      "RangeIndex: 969 entries, 0 to 968\n",
      "Data columns (total 44 columns):\n",
      "adaptation                                816 non-null float64\n",
      "avg_isi                                   889 non-null float64\n",
      "f_i_curve_slope                           969 non-null float64\n",
      "fast_trough_t_long_square                 969 non-null float64\n",
      "fast_trough_t_ramp                        934 non-null float64\n",
      "fast_trough_t_short_square                969 non-null float64\n",
      "fast_trough_v_long_square                 969 non-null float64\n",
      "fast_trough_v_ramp                        934 non-null float64\n",
      "fast_trough_v_short_square                969 non-null float64\n",
      "latency                                   969 non-null float64\n",
      "peak_t_long_square                        969 non-null float64\n",
      "peak_t_ramp                               934 non-null float64\n",
      "peak_t_short_square                       969 non-null float64\n",
      "peak_v_long_square                        969 non-null float64\n",
      "peak_v_ramp                               934 non-null float64\n",
      "peak_v_short_square                       969 non-null float64\n",
      "ri                                        969 non-null float64\n",
      "sag                                       969 non-null float64\n",
      "threshold_i_long_square                   969 non-null float64\n",
      "threshold_i_ramp                          934 non-null float64\n",
      "threshold_i_short_square                  969 non-null float64\n",
      "threshold_t_long_square                   969 non-null float64\n",
      "threshold_t_ramp                          934 non-null float64\n",
      "threshold_t_short_square                  969 non-null float64\n",
      "threshold_v_long_square                   969 non-null float64\n",
      "threshold_v_ramp                          934 non-null float64\n",
      "threshold_v_short_square                  969 non-null float64\n",
      "trough_t_long_square                      969 non-null float64\n",
      "trough_t_ramp                             934 non-null float64\n",
      "trough_t_short_square                     969 non-null float64\n",
      "trough_v_long_square                      969 non-null float64\n",
      "trough_v_ramp                             934 non-null float64\n",
      "trough_v_short_square                     969 non-null float64\n",
      "upstroke_downstroke_ratio_long_square     969 non-null float64\n",
      "upstroke_downstroke_ratio_ramp            934 non-null float64\n",
      "upstroke_downstroke_ratio_short_square    969 non-null float64\n",
      "vrest                                     969 non-null float64\n",
      "transgenic_line                           969 non-null object\n",
      "reporter_status                           969 non-null object\n",
      "firing_rate                               889 non-null float64\n",
      "binary_neuron                             969 non-null object\n",
      "height_short                              969 non-null float64\n",
      "height_long                               969 non-null float64\n",
      "height_ramp                               934 non-null float64\n",
      "dtypes: float64(41), object(3)\n",
      "memory usage: 333.2+ KB\n"
     ]
    }
   ],
   "source": [
    "cre.info()"
   ]
  },
  {
   "cell_type": "code",
   "execution_count": 117,
   "metadata": {},
   "outputs": [],
   "source": [
    "cre.to_csv('cre_revised.csv', index = False)"
   ]
  }
 ],
 "metadata": {
  "kernelspec": {
   "display_name": "Python 2",
   "language": "python",
   "name": "python2"
  },
  "language_info": {
   "codemirror_mode": {
    "name": "ipython",
    "version": 2
   },
   "file_extension": ".py",
   "mimetype": "text/x-python",
   "name": "python",
   "nbconvert_exporter": "python",
   "pygments_lexer": "ipython2",
   "version": "2.7.13"
  },
  "varInspector": {
   "cols": {
    "lenName": 16,
    "lenType": 16,
    "lenVar": 40
   },
   "kernels_config": {
    "python": {
     "delete_cmd_postfix": "",
     "delete_cmd_prefix": "del ",
     "library": "var_list.py",
     "varRefreshCmd": "print(var_dic_list())"
    },
    "r": {
     "delete_cmd_postfix": ") ",
     "delete_cmd_prefix": "rm(",
     "library": "var_list.r",
     "varRefreshCmd": "cat(var_dic_list()) "
    }
   },
   "types_to_exclude": [
    "module",
    "function",
    "builtin_function_or_method",
    "instance",
    "_Feature"
   ],
   "window_display": true
  }
 },
 "nbformat": 4,
 "nbformat_minor": 2
}

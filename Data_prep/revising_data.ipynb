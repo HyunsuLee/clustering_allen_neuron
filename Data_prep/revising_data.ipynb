{
 "cells": [
  {
   "cell_type": "markdown",
   "metadata": {},
   "source": [
    "# Revising manuscript. \n",
    "## Data preparing according to reviewer's comments."
   ]
  },
  {
   "cell_type": "code",
   "execution_count": 1,
   "metadata": {},
   "outputs": [],
   "source": [
    "import pandas as pd\n",
    "import json\n",
    "from pprint import pprint"
   ]
  },
  {
   "cell_type": "code",
   "execution_count": 2,
   "metadata": {},
   "outputs": [],
   "source": [
    "cre = pd.read_csv('ephys_data_cre_EI_180116.csv') # use this data for using specimen id\n",
    "# cre = pd.read_csv('ephys_data_cre.csv')\n",
    "# as review 2 minor commemts # 11 . technical values removed.\n",
    "cre = cre.drop(['reporter_status', 'height', 'input_resistance_mohm', 'vm_for_sag', \n",
    "                'slow_trough_t_long_square', 'slow_trough_v_long_square',\n",
    "               'slow_trough_t_ramp', 'slow_trough_v_ramp'], axis=1)\n",
    "#cre.info()"
   ]
  },
  {
   "cell_type": "markdown",
   "metadata": {},
   "source": [
    "adaptation                                816\n",
    "avg_isi                                   889"
   ]
  },
  {
   "cell_type": "code",
   "execution_count": 3,
   "metadata": {},
   "outputs": [
    {
     "name": "stdout",
     "output_type": "stream",
     "text": [
      "All cells: 1337\n"
     ]
    }
   ],
   "source": [
    "# from allensdk.core.cell_types_cache import CellTypesCache\n",
    "# from allensdk.api.queries.cell_types_api import CellTypesApi\n",
    "# from allensdk.core.cell_types_cache import ReporterStatus as RS\n",
    "# ctc = CellTypesCache(manifest_file='cell_types/manifest.json')\n",
    "# cells = ctc.get_cells()\n",
    "with open('cell_types/cells.json') as df:\n",
    "    cells = json.load(df)\n",
    "print(\"All cells: %d\" % len(cells)) # load data, for including layer metadata."
   ]
  },
  {
   "cell_type": "code",
   "execution_count": 4,
   "metadata": {},
   "outputs": [],
   "source": [
    "cell_index = { c['id']: c for c in cells }"
   ]
  },
  {
   "cell_type": "code",
   "execution_count": 6,
   "metadata": {},
   "outputs": [],
   "source": [
    "tau = [cell_index[cid]['ephys_features'][0]['tau'] for cid in cre['specimen_id']]\n",
    "cre['tau'] = pd.Series(tau, index=cre.index)"
   ]
  },
  {
   "cell_type": "code",
   "execution_count": 7,
   "metadata": {},
   "outputs": [],
   "source": [
    "\n",
    "# cre.head()\n",
    "# cell_index[489923501]['structure']['safe_name']"
   ]
  },
  {
   "cell_type": "code",
   "execution_count": 8,
   "metadata": {},
   "outputs": [],
   "source": [
    "layer_full = [cell_index[cid]['structure']['safe_name'] for cid in cre['specimen_id']]\n",
    "cre['layer_full'] = pd.Series(layer_full, index=cre.index)\n",
    "# cre.head()"
   ]
  },
  {
   "cell_type": "code",
   "execution_count": 9,
   "metadata": {},
   "outputs": [],
   "source": [
    "layer_acronym = [cell_index[cid]['structure']['acronym'] for cid in cre['specimen_id']]\n",
    "cre['acronym'] = pd.Series(layer_acronym, index=cre.index)\n",
    "# cre.head()"
   ]
  },
  {
   "cell_type": "code",
   "execution_count": 10,
   "metadata": {},
   "outputs": [],
   "source": [
    "cre_dropna = cre.dropna(axis=0, how='any') # before fill the adatation index, avg_isi"
   ]
  },
  {
   "cell_type": "code",
   "execution_count": 12,
   "metadata": {},
   "outputs": [
    {
     "data": {
      "text/plain": [
       "792"
      ]
     },
     "execution_count": 12,
     "metadata": {},
     "output_type": "execute_result"
    }
   ],
   "source": [
    "len(cre_dropna)"
   ]
  },
  {
   "cell_type": "code",
   "execution_count": 13,
   "metadata": {},
   "outputs": [
    {
     "data": {
      "text/plain": [
       "Chat-IRES-Cre-neo    11\n",
       "Chrna2-Cre_OE25       2\n",
       "Ctgf-T2A-dgCre        0\n",
       "Cux2-CreERT2         13\n",
       "Gad2-IRES-Cre         4\n",
       "Htr3a-Cre_NO152      18\n",
       "Ndnf-IRES2-dgCre      1\n",
       "Nkx2-1-CreERT2        1\n",
       "Nr5a1-Cre             9\n",
       "Ntsr1-Cre_GN220      15\n",
       "Pvalb-IRES-Cre       38\n",
       "Rbp4-Cre_KL100       13\n",
       "Rorb-IRES2-Cre       14\n",
       "Scnn1a-Tg2-Cre        4\n",
       "Scnn1a-Tg3-Cre        7\n",
       "Slc17a6-IRES-Cre      1\n",
       "Sst-IRES-Cre         25\n",
       "Vip-IRES-Cre          1\n",
       "Name: transgenic_line, dtype: int64"
      ]
     },
     "execution_count": 13,
     "metadata": {},
     "output_type": "execute_result"
    }
   ],
   "source": [
    "a = cre['transgenic_line'].value_counts()\n",
    "b= cre_dropna['transgenic_line'].value_counts()\n",
    "a - b"
   ]
  },
  {
   "cell_type": "code",
   "execution_count": 14,
   "metadata": {},
   "outputs": [
    {
     "data": {
      "text/plain": [
       "Chat-IRES-Cre-neo    0.550000\n",
       "Chrna2-Cre_OE25      0.064516\n",
       "Ctgf-T2A-dgCre       0.000000\n",
       "Cux2-CreERT2         0.178082\n",
       "Gad2-IRES-Cre        0.363636\n",
       "Htr3a-Cre_NO152      0.202247\n",
       "Ndnf-IRES2-dgCre     0.066667\n",
       "Nkx2-1-CreERT2       0.043478\n",
       "Nr5a1-Cre            0.130435\n",
       "Ntsr1-Cre_GN220      0.312500\n",
       "Pvalb-IRES-Cre       0.267606\n",
       "Rbp4-Cre_KL100       0.180556\n",
       "Rorb-IRES2-Cre       0.116667\n",
       "Scnn1a-Tg2-Cre       0.111111\n",
       "Scnn1a-Tg3-Cre       0.116667\n",
       "Slc17a6-IRES-Cre     0.333333\n",
       "Sst-IRES-Cre         0.225225\n",
       "Vip-IRES-Cre         0.050000\n",
       "Name: transgenic_line, dtype: float64"
      ]
     },
     "execution_count": 14,
     "metadata": {},
     "output_type": "execute_result"
    }
   ],
   "source": [
    "(a-b)/a # before fill na value in adaptation and avg_isi"
   ]
  },
  {
   "cell_type": "code",
   "execution_count": 22,
   "metadata": {},
   "outputs": [
    {
     "data": {
      "text/plain": [
       "True     954\n",
       "False     15\n",
       "dtype: int64"
      ]
     },
     "execution_count": 22,
     "metadata": {},
     "output_type": "execute_result"
    }
   ],
   "source": [
    "(cre['slow_trough_t_short_square'] == cre['trough_t_short_square']).value_counts() # almost same properties"
   ]
  },
  {
   "cell_type": "code",
   "execution_count": 23,
   "metadata": {},
   "outputs": [
    {
     "data": {
      "text/plain": [
       "True     878\n",
       "False     91\n",
       "dtype: int64"
      ]
     },
     "execution_count": 23,
     "metadata": {},
     "output_type": "execute_result"
    }
   ],
   "source": [
    "(cre['slow_trough_v_short_square'] == cre['trough_v_short_square']).value_counts() # almost same properties"
   ]
  },
  {
   "cell_type": "code",
   "execution_count": 24,
   "metadata": {},
   "outputs": [],
   "source": [
    "cre = cre.drop(['slow_trough_v_short_square', 'slow_trough_t_short_square'], axis=1)"
   ]
  },
  {
   "cell_type": "code",
   "execution_count": 25,
   "metadata": {},
   "outputs": [],
   "source": [
    "cre_fill = cre # make new dataset for fill NA values"
   ]
  },
  {
   "cell_type": "code",
   "execution_count": 26,
   "metadata": {},
   "outputs": [],
   "source": [
    "cre_fill['adaptation'] = cre_fill['adaptation'].fillna(1.0) # if cells to adapt to stimuli, and can't make next spike. "
   ]
  },
  {
   "cell_type": "code",
   "execution_count": 27,
   "metadata": {},
   "outputs": [],
   "source": [
    "cre_fill['avg_isi']=cre_fill['avg_isi'].fillna(1000.0)  # long square stimul duration is 1 sec"
   ]
  },
  {
   "cell_type": "code",
   "execution_count": 28,
   "metadata": {},
   "outputs": [],
   "source": [
    "cre_fill_dropna = cre_fill.dropna(axis=0, how='any') # after fill the adatation index, avg_isi"
   ]
  },
  {
   "cell_type": "code",
   "execution_count": 29,
   "metadata": {},
   "outputs": [
    {
     "data": {
      "text/plain": [
       "Chat-IRES-Cre-neo     1\n",
       "Chrna2-Cre_OE25       0\n",
       "Ctgf-T2A-dgCre        0\n",
       "Cux2-CreERT2          0\n",
       "Gad2-IRES-Cre         1\n",
       "Htr3a-Cre_NO152       3\n",
       "Ndnf-IRES2-dgCre      0\n",
       "Nkx2-1-CreERT2        1\n",
       "Nr5a1-Cre             1\n",
       "Ntsr1-Cre_GN220       0\n",
       "Pvalb-IRES-Cre       23\n",
       "Rbp4-Cre_KL100        0\n",
       "Rorb-IRES2-Cre        0\n",
       "Scnn1a-Tg2-Cre        0\n",
       "Scnn1a-Tg3-Cre        0\n",
       "Slc17a6-IRES-Cre      0\n",
       "Sst-IRES-Cre          5\n",
       "Vip-IRES-Cre          0\n",
       "Name: transgenic_line, dtype: int64"
      ]
     },
     "execution_count": 29,
     "metadata": {},
     "output_type": "execute_result"
    }
   ],
   "source": [
    "a = cre_fill['transgenic_line'].value_counts()\n",
    "b= cre_fill_dropna['transgenic_line'].value_counts()\n",
    "a - b"
   ]
  },
  {
   "cell_type": "code",
   "execution_count": 30,
   "metadata": {},
   "outputs": [
    {
     "data": {
      "text/plain": [
       "Chat-IRES-Cre-neo    0.050000\n",
       "Chrna2-Cre_OE25      0.000000\n",
       "Ctgf-T2A-dgCre       0.000000\n",
       "Cux2-CreERT2         0.000000\n",
       "Gad2-IRES-Cre        0.090909\n",
       "Htr3a-Cre_NO152      0.033708\n",
       "Ndnf-IRES2-dgCre     0.000000\n",
       "Nkx2-1-CreERT2       0.043478\n",
       "Nr5a1-Cre            0.014493\n",
       "Ntsr1-Cre_GN220      0.000000\n",
       "Pvalb-IRES-Cre       0.161972\n",
       "Rbp4-Cre_KL100       0.000000\n",
       "Rorb-IRES2-Cre       0.000000\n",
       "Scnn1a-Tg2-Cre       0.000000\n",
       "Scnn1a-Tg3-Cre       0.000000\n",
       "Slc17a6-IRES-Cre     0.000000\n",
       "Sst-IRES-Cre         0.045045\n",
       "Vip-IRES-Cre         0.000000\n",
       "Name: transgenic_line, dtype: float64"
      ]
     },
     "execution_count": 30,
     "metadata": {},
     "output_type": "execute_result"
    }
   ],
   "source": [
    "(a-b)/a # before fill na value in adaptation and avg_isi"
   ]
  },
  {
   "cell_type": "code",
   "execution_count": 32,
   "metadata": {},
   "outputs": [
    {
     "data": {
      "text/plain": [
       "934"
      ]
     },
     "execution_count": 32,
     "metadata": {},
     "output_type": "execute_result"
    }
   ],
   "source": [
    "len(cre_fill_dropna) # before drop slow_trough, so recheck the value. after drop slow_trough col.\n",
    "#remain 934 cells."
   ]
  },
  {
   "cell_type": "code",
   "execution_count": 33,
   "metadata": {},
   "outputs": [],
   "source": [
    "cre = cre_fill # replace the filled dataset"
   ]
  },
  {
   "cell_type": "code",
   "execution_count": 34,
   "metadata": {},
   "outputs": [
    {
     "data": {
      "text/html": [
       "<div>\n",
       "<style>\n",
       "    .dataframe thead tr:only-child th {\n",
       "        text-align: right;\n",
       "    }\n",
       "\n",
       "    .dataframe thead th {\n",
       "        text-align: left;\n",
       "    }\n",
       "\n",
       "    .dataframe tbody tr th {\n",
       "        vertical-align: top;\n",
       "    }\n",
       "</style>\n",
       "<table border=\"1\" class=\"dataframe\">\n",
       "  <thead>\n",
       "    <tr style=\"text-align: right;\">\n",
       "      <th></th>\n",
       "      <th>specimen_id</th>\n",
       "      <th>adaptation</th>\n",
       "      <th>avg_isi</th>\n",
       "      <th>f_i_curve_slope</th>\n",
       "      <th>fast_trough_t_long_square</th>\n",
       "      <th>fast_trough_t_ramp</th>\n",
       "      <th>fast_trough_t_short_square</th>\n",
       "      <th>fast_trough_v_long_square</th>\n",
       "      <th>fast_trough_v_ramp</th>\n",
       "      <th>fast_trough_v_short_square</th>\n",
       "      <th>...</th>\n",
       "      <th>trough_v_short_square</th>\n",
       "      <th>upstroke_downstroke_ratio_long_square</th>\n",
       "      <th>upstroke_downstroke_ratio_ramp</th>\n",
       "      <th>upstroke_downstroke_ratio_short_square</th>\n",
       "      <th>vrest</th>\n",
       "      <th>transgenic_line</th>\n",
       "      <th>binary_neuron</th>\n",
       "      <th>tau</th>\n",
       "      <th>layer_full</th>\n",
       "      <th>acronym</th>\n",
       "    </tr>\n",
       "  </thead>\n",
       "  <tbody>\n",
       "    <tr>\n",
       "      <th>70</th>\n",
       "      <td>526943222</td>\n",
       "      <td>-0.016836</td>\n",
       "      <td>51.317500</td>\n",
       "      <td>0.253219</td>\n",
       "      <td>1.53066</td>\n",
       "      <td>4.356407</td>\n",
       "      <td>1.025040</td>\n",
       "      <td>-53.656254</td>\n",
       "      <td>-53.114587</td>\n",
       "      <td>-56.575002</td>\n",
       "      <td>...</td>\n",
       "      <td>-68.137506</td>\n",
       "      <td>3.277697</td>\n",
       "      <td>3.293132</td>\n",
       "      <td>2.619381</td>\n",
       "      <td>-67.046272</td>\n",
       "      <td>Ndnf-IRES2-dgCre</td>\n",
       "      <td>Inhibitory</td>\n",
       "      <td>19.153995</td>\n",
       "      <td>Primary visual area layer 1</td>\n",
       "      <td>VISp1</td>\n",
       "    </tr>\n",
       "    <tr>\n",
       "      <th>99</th>\n",
       "      <td>527089085</td>\n",
       "      <td>0.008434</td>\n",
       "      <td>36.099259</td>\n",
       "      <td>0.480000</td>\n",
       "      <td>1.04764</td>\n",
       "      <td>7.642927</td>\n",
       "      <td>1.027312</td>\n",
       "      <td>-47.437504</td>\n",
       "      <td>-46.395836</td>\n",
       "      <td>-56.981253</td>\n",
       "      <td>...</td>\n",
       "      <td>-73.237500</td>\n",
       "      <td>2.780688</td>\n",
       "      <td>3.089430</td>\n",
       "      <td>2.601046</td>\n",
       "      <td>-72.885735</td>\n",
       "      <td>Ndnf-IRES2-dgCre</td>\n",
       "      <td>Inhibitory</td>\n",
       "      <td>9.042324</td>\n",
       "      <td>Primary visual area layer 1</td>\n",
       "      <td>VISp1</td>\n",
       "    </tr>\n",
       "    <tr>\n",
       "      <th>258</th>\n",
       "      <td>527579814</td>\n",
       "      <td>0.005303</td>\n",
       "      <td>52.404706</td>\n",
       "      <td>0.328125</td>\n",
       "      <td>1.83288</td>\n",
       "      <td>8.159487</td>\n",
       "      <td>1.027337</td>\n",
       "      <td>-49.937500</td>\n",
       "      <td>-51.989586</td>\n",
       "      <td>-60.036462</td>\n",
       "      <td>...</td>\n",
       "      <td>-76.656253</td>\n",
       "      <td>3.979260</td>\n",
       "      <td>4.137271</td>\n",
       "      <td>2.575332</td>\n",
       "      <td>-76.635284</td>\n",
       "      <td>Ndnf-IRES2-dgCre</td>\n",
       "      <td>Inhibitory</td>\n",
       "      <td>4.763883</td>\n",
       "      <td>Primary visual area layer 1</td>\n",
       "      <td>VISp1</td>\n",
       "    </tr>\n",
       "    <tr>\n",
       "      <th>264</th>\n",
       "      <td>530235049</td>\n",
       "      <td>0.002679</td>\n",
       "      <td>27.175000</td>\n",
       "      <td>0.335919</td>\n",
       "      <td>1.11192</td>\n",
       "      <td>7.368600</td>\n",
       "      <td>1.024668</td>\n",
       "      <td>-53.500004</td>\n",
       "      <td>-52.239586</td>\n",
       "      <td>-55.675002</td>\n",
       "      <td>...</td>\n",
       "      <td>-70.387503</td>\n",
       "      <td>2.502756</td>\n",
       "      <td>2.628995</td>\n",
       "      <td>2.568368</td>\n",
       "      <td>-69.332764</td>\n",
       "      <td>Ndnf-IRES2-dgCre</td>\n",
       "      <td>Inhibitory</td>\n",
       "      <td>8.629247</td>\n",
       "      <td>Primary visual area layer 2/3</td>\n",
       "      <td>VISp2/3</td>\n",
       "    </tr>\n",
       "    <tr>\n",
       "      <th>356</th>\n",
       "      <td>564346637</td>\n",
       "      <td>1.000000</td>\n",
       "      <td>20.160000</td>\n",
       "      <td>0.665800</td>\n",
       "      <td>1.06240</td>\n",
       "      <td>6.785400</td>\n",
       "      <td>1.024127</td>\n",
       "      <td>-60.875004</td>\n",
       "      <td>-52.406250</td>\n",
       "      <td>-61.963545</td>\n",
       "      <td>...</td>\n",
       "      <td>-63.812503</td>\n",
       "      <td>1.480181</td>\n",
       "      <td>1.053327</td>\n",
       "      <td>1.613715</td>\n",
       "      <td>-62.698147</td>\n",
       "      <td>Ndnf-IRES2-dgCre</td>\n",
       "      <td>Inhibitory</td>\n",
       "      <td>25.978014</td>\n",
       "      <td>Primary visual area layer 5</td>\n",
       "      <td>VISp5</td>\n",
       "    </tr>\n",
       "    <tr>\n",
       "      <th>456</th>\n",
       "      <td>526531616</td>\n",
       "      <td>0.006942</td>\n",
       "      <td>28.112353</td>\n",
       "      <td>0.303640</td>\n",
       "      <td>1.53710</td>\n",
       "      <td>6.348080</td>\n",
       "      <td>1.026160</td>\n",
       "      <td>-53.437500</td>\n",
       "      <td>-50.052087</td>\n",
       "      <td>-55.975002</td>\n",
       "      <td>...</td>\n",
       "      <td>-72.425003</td>\n",
       "      <td>2.980973</td>\n",
       "      <td>2.859881</td>\n",
       "      <td>2.546601</td>\n",
       "      <td>-72.557991</td>\n",
       "      <td>Ndnf-IRES2-dgCre</td>\n",
       "      <td>Inhibitory</td>\n",
       "      <td>9.050988</td>\n",
       "      <td>Primary visual area layer 1</td>\n",
       "      <td>VISp1</td>\n",
       "    </tr>\n",
       "    <tr>\n",
       "      <th>460</th>\n",
       "      <td>579611597</td>\n",
       "      <td>-0.025917</td>\n",
       "      <td>79.514545</td>\n",
       "      <td>0.257085</td>\n",
       "      <td>1.85968</td>\n",
       "      <td>9.415487</td>\n",
       "      <td>1.027660</td>\n",
       "      <td>-52.406250</td>\n",
       "      <td>-49.739585</td>\n",
       "      <td>-58.562504</td>\n",
       "      <td>...</td>\n",
       "      <td>-76.406258</td>\n",
       "      <td>3.787364</td>\n",
       "      <td>3.863806</td>\n",
       "      <td>2.875604</td>\n",
       "      <td>-75.740387</td>\n",
       "      <td>Ndnf-IRES2-dgCre</td>\n",
       "      <td>Inhibitory</td>\n",
       "      <td>8.572176</td>\n",
       "      <td>Primary visual area layer 2/3</td>\n",
       "      <td>VISp2/3</td>\n",
       "    </tr>\n",
       "    <tr>\n",
       "      <th>525</th>\n",
       "      <td>527869035</td>\n",
       "      <td>-0.000414</td>\n",
       "      <td>31.932143</td>\n",
       "      <td>0.391826</td>\n",
       "      <td>1.96766</td>\n",
       "      <td>6.447647</td>\n",
       "      <td>1.025717</td>\n",
       "      <td>-50.656250</td>\n",
       "      <td>-51.541669</td>\n",
       "      <td>-55.088544</td>\n",
       "      <td>...</td>\n",
       "      <td>-65.880213</td>\n",
       "      <td>3.023153</td>\n",
       "      <td>3.061118</td>\n",
       "      <td>2.408996</td>\n",
       "      <td>-65.245323</td>\n",
       "      <td>Ndnf-IRES2-dgCre</td>\n",
       "      <td>Inhibitory</td>\n",
       "      <td>8.652592</td>\n",
       "      <td>Primary visual area layer 1</td>\n",
       "      <td>VISp1</td>\n",
       "    </tr>\n",
       "    <tr>\n",
       "      <th>574</th>\n",
       "      <td>526939383</td>\n",
       "      <td>0.002607</td>\n",
       "      <td>31.416129</td>\n",
       "      <td>0.340848</td>\n",
       "      <td>1.09790</td>\n",
       "      <td>6.254480</td>\n",
       "      <td>1.025248</td>\n",
       "      <td>-48.968750</td>\n",
       "      <td>-49.156253</td>\n",
       "      <td>-51.343752</td>\n",
       "      <td>...</td>\n",
       "      <td>-72.431255</td>\n",
       "      <td>2.717109</td>\n",
       "      <td>2.526602</td>\n",
       "      <td>2.358213</td>\n",
       "      <td>-71.806557</td>\n",
       "      <td>Ndnf-IRES2-dgCre</td>\n",
       "      <td>Inhibitory</td>\n",
       "      <td>10.630557</td>\n",
       "      <td>Primary visual area layer 1</td>\n",
       "      <td>VISp1</td>\n",
       "    </tr>\n",
       "    <tr>\n",
       "      <th>704</th>\n",
       "      <td>527464013</td>\n",
       "      <td>-0.007651</td>\n",
       "      <td>37.511200</td>\n",
       "      <td>0.312106</td>\n",
       "      <td>1.47392</td>\n",
       "      <td>8.514600</td>\n",
       "      <td>1.028415</td>\n",
       "      <td>-52.656254</td>\n",
       "      <td>-49.458336</td>\n",
       "      <td>-60.109377</td>\n",
       "      <td>...</td>\n",
       "      <td>-75.367189</td>\n",
       "      <td>3.007957</td>\n",
       "      <td>3.439152</td>\n",
       "      <td>2.371974</td>\n",
       "      <td>-75.434464</td>\n",
       "      <td>Ndnf-IRES2-dgCre</td>\n",
       "      <td>Inhibitory</td>\n",
       "      <td>5.897970</td>\n",
       "      <td>Primary visual area layer 1</td>\n",
       "      <td>VISp1</td>\n",
       "    </tr>\n",
       "    <tr>\n",
       "      <th>719</th>\n",
       "      <td>526801742</td>\n",
       "      <td>-0.002712</td>\n",
       "      <td>44.943810</td>\n",
       "      <td>0.346889</td>\n",
       "      <td>1.90974</td>\n",
       "      <td>4.778880</td>\n",
       "      <td>1.025840</td>\n",
       "      <td>-52.187504</td>\n",
       "      <td>-50.479170</td>\n",
       "      <td>-53.770837</td>\n",
       "      <td>...</td>\n",
       "      <td>-69.218753</td>\n",
       "      <td>2.866437</td>\n",
       "      <td>3.069964</td>\n",
       "      <td>2.529018</td>\n",
       "      <td>-68.262878</td>\n",
       "      <td>Ndnf-IRES2-dgCre</td>\n",
       "      <td>Inhibitory</td>\n",
       "      <td>9.680092</td>\n",
       "      <td>Lateral visual area layer 2/3</td>\n",
       "      <td>VISl2/3</td>\n",
       "    </tr>\n",
       "    <tr>\n",
       "      <th>782</th>\n",
       "      <td>569623233</td>\n",
       "      <td>-0.018631</td>\n",
       "      <td>35.221481</td>\n",
       "      <td>0.459787</td>\n",
       "      <td>1.91420</td>\n",
       "      <td>7.777170</td>\n",
       "      <td>1.025636</td>\n",
       "      <td>-47.500004</td>\n",
       "      <td>-50.015629</td>\n",
       "      <td>-55.425002</td>\n",
       "      <td>...</td>\n",
       "      <td>-73.037505</td>\n",
       "      <td>2.542889</td>\n",
       "      <td>2.900498</td>\n",
       "      <td>2.491942</td>\n",
       "      <td>-72.636589</td>\n",
       "      <td>Ndnf-IRES2-dgCre</td>\n",
       "      <td>Inhibitory</td>\n",
       "      <td>8.774123</td>\n",
       "      <td>Primary visual area layer 2/3</td>\n",
       "      <td>VISp2/3</td>\n",
       "    </tr>\n",
       "    <tr>\n",
       "      <th>887</th>\n",
       "      <td>579981789</td>\n",
       "      <td>0.018214</td>\n",
       "      <td>75.793333</td>\n",
       "      <td>0.210757</td>\n",
       "      <td>1.11860</td>\n",
       "      <td>4.108287</td>\n",
       "      <td>1.025616</td>\n",
       "      <td>-54.906254</td>\n",
       "      <td>-55.645836</td>\n",
       "      <td>-60.368752</td>\n",
       "      <td>...</td>\n",
       "      <td>-73.056253</td>\n",
       "      <td>3.630774</td>\n",
       "      <td>3.674494</td>\n",
       "      <td>3.922287</td>\n",
       "      <td>-72.164597</td>\n",
       "      <td>Ndnf-IRES2-dgCre</td>\n",
       "      <td>Inhibitory</td>\n",
       "      <td>16.705617</td>\n",
       "      <td>Primary visual area layer 6b</td>\n",
       "      <td>VISp6b</td>\n",
       "    </tr>\n",
       "    <tr>\n",
       "      <th>891</th>\n",
       "      <td>527095729</td>\n",
       "      <td>-0.011970</td>\n",
       "      <td>25.275897</td>\n",
       "      <td>0.440534</td>\n",
       "      <td>1.04206</td>\n",
       "      <td>11.520100</td>\n",
       "      <td>1.027056</td>\n",
       "      <td>-51.281250</td>\n",
       "      <td>-49.906253</td>\n",
       "      <td>-59.512502</td>\n",
       "      <td>...</td>\n",
       "      <td>-76.043753</td>\n",
       "      <td>2.877833</td>\n",
       "      <td>3.136740</td>\n",
       "      <td>2.715563</td>\n",
       "      <td>-74.506088</td>\n",
       "      <td>Ndnf-IRES2-dgCre</td>\n",
       "      <td>Inhibitory</td>\n",
       "      <td>8.441577</td>\n",
       "      <td>Primary visual area layer 1</td>\n",
       "      <td>VISp1</td>\n",
       "    </tr>\n",
       "    <tr>\n",
       "      <th>918</th>\n",
       "      <td>565778331</td>\n",
       "      <td>0.050492</td>\n",
       "      <td>104.200000</td>\n",
       "      <td>0.136731</td>\n",
       "      <td>1.16406</td>\n",
       "      <td>5.423500</td>\n",
       "      <td>1.024932</td>\n",
       "      <td>-44.781254</td>\n",
       "      <td>-46.229169</td>\n",
       "      <td>-51.125002</td>\n",
       "      <td>...</td>\n",
       "      <td>-67.843753</td>\n",
       "      <td>3.286742</td>\n",
       "      <td>3.239252</td>\n",
       "      <td>3.029947</td>\n",
       "      <td>-66.556534</td>\n",
       "      <td>Ndnf-IRES2-dgCre</td>\n",
       "      <td>Inhibitory</td>\n",
       "      <td>15.529607</td>\n",
       "      <td>Primary visual area layer 5</td>\n",
       "      <td>VISp5</td>\n",
       "    </tr>\n",
       "  </tbody>\n",
       "</table>\n",
       "<p>15 rows × 43 columns</p>\n",
       "</div>"
      ],
      "text/plain": [
       "     specimen_id  adaptation     avg_isi  f_i_curve_slope  \\\n",
       "70     526943222   -0.016836   51.317500         0.253219   \n",
       "99     527089085    0.008434   36.099259         0.480000   \n",
       "258    527579814    0.005303   52.404706         0.328125   \n",
       "264    530235049    0.002679   27.175000         0.335919   \n",
       "356    564346637    1.000000   20.160000         0.665800   \n",
       "456    526531616    0.006942   28.112353         0.303640   \n",
       "460    579611597   -0.025917   79.514545         0.257085   \n",
       "525    527869035   -0.000414   31.932143         0.391826   \n",
       "574    526939383    0.002607   31.416129         0.340848   \n",
       "704    527464013   -0.007651   37.511200         0.312106   \n",
       "719    526801742   -0.002712   44.943810         0.346889   \n",
       "782    569623233   -0.018631   35.221481         0.459787   \n",
       "887    579981789    0.018214   75.793333         0.210757   \n",
       "891    527095729   -0.011970   25.275897         0.440534   \n",
       "918    565778331    0.050492  104.200000         0.136731   \n",
       "\n",
       "     fast_trough_t_long_square  fast_trough_t_ramp  \\\n",
       "70                     1.53066            4.356407   \n",
       "99                     1.04764            7.642927   \n",
       "258                    1.83288            8.159487   \n",
       "264                    1.11192            7.368600   \n",
       "356                    1.06240            6.785400   \n",
       "456                    1.53710            6.348080   \n",
       "460                    1.85968            9.415487   \n",
       "525                    1.96766            6.447647   \n",
       "574                    1.09790            6.254480   \n",
       "704                    1.47392            8.514600   \n",
       "719                    1.90974            4.778880   \n",
       "782                    1.91420            7.777170   \n",
       "887                    1.11860            4.108287   \n",
       "891                    1.04206           11.520100   \n",
       "918                    1.16406            5.423500   \n",
       "\n",
       "     fast_trough_t_short_square  fast_trough_v_long_square  \\\n",
       "70                     1.025040                 -53.656254   \n",
       "99                     1.027312                 -47.437504   \n",
       "258                    1.027337                 -49.937500   \n",
       "264                    1.024668                 -53.500004   \n",
       "356                    1.024127                 -60.875004   \n",
       "456                    1.026160                 -53.437500   \n",
       "460                    1.027660                 -52.406250   \n",
       "525                    1.025717                 -50.656250   \n",
       "574                    1.025248                 -48.968750   \n",
       "704                    1.028415                 -52.656254   \n",
       "719                    1.025840                 -52.187504   \n",
       "782                    1.025636                 -47.500004   \n",
       "887                    1.025616                 -54.906254   \n",
       "891                    1.027056                 -51.281250   \n",
       "918                    1.024932                 -44.781254   \n",
       "\n",
       "     fast_trough_v_ramp  fast_trough_v_short_square   ...     \\\n",
       "70           -53.114587                  -56.575002   ...      \n",
       "99           -46.395836                  -56.981253   ...      \n",
       "258          -51.989586                  -60.036462   ...      \n",
       "264          -52.239586                  -55.675002   ...      \n",
       "356          -52.406250                  -61.963545   ...      \n",
       "456          -50.052087                  -55.975002   ...      \n",
       "460          -49.739585                  -58.562504   ...      \n",
       "525          -51.541669                  -55.088544   ...      \n",
       "574          -49.156253                  -51.343752   ...      \n",
       "704          -49.458336                  -60.109377   ...      \n",
       "719          -50.479170                  -53.770837   ...      \n",
       "782          -50.015629                  -55.425002   ...      \n",
       "887          -55.645836                  -60.368752   ...      \n",
       "891          -49.906253                  -59.512502   ...      \n",
       "918          -46.229169                  -51.125002   ...      \n",
       "\n",
       "     trough_v_short_square  upstroke_downstroke_ratio_long_square  \\\n",
       "70              -68.137506                               3.277697   \n",
       "99              -73.237500                               2.780688   \n",
       "258             -76.656253                               3.979260   \n",
       "264             -70.387503                               2.502756   \n",
       "356             -63.812503                               1.480181   \n",
       "456             -72.425003                               2.980973   \n",
       "460             -76.406258                               3.787364   \n",
       "525             -65.880213                               3.023153   \n",
       "574             -72.431255                               2.717109   \n",
       "704             -75.367189                               3.007957   \n",
       "719             -69.218753                               2.866437   \n",
       "782             -73.037505                               2.542889   \n",
       "887             -73.056253                               3.630774   \n",
       "891             -76.043753                               2.877833   \n",
       "918             -67.843753                               3.286742   \n",
       "\n",
       "     upstroke_downstroke_ratio_ramp  upstroke_downstroke_ratio_short_square  \\\n",
       "70                         3.293132                                2.619381   \n",
       "99                         3.089430                                2.601046   \n",
       "258                        4.137271                                2.575332   \n",
       "264                        2.628995                                2.568368   \n",
       "356                        1.053327                                1.613715   \n",
       "456                        2.859881                                2.546601   \n",
       "460                        3.863806                                2.875604   \n",
       "525                        3.061118                                2.408996   \n",
       "574                        2.526602                                2.358213   \n",
       "704                        3.439152                                2.371974   \n",
       "719                        3.069964                                2.529018   \n",
       "782                        2.900498                                2.491942   \n",
       "887                        3.674494                                3.922287   \n",
       "891                        3.136740                                2.715563   \n",
       "918                        3.239252                                3.029947   \n",
       "\n",
       "         vrest   transgenic_line  binary_neuron        tau  \\\n",
       "70  -67.046272  Ndnf-IRES2-dgCre     Inhibitory  19.153995   \n",
       "99  -72.885735  Ndnf-IRES2-dgCre     Inhibitory   9.042324   \n",
       "258 -76.635284  Ndnf-IRES2-dgCre     Inhibitory   4.763883   \n",
       "264 -69.332764  Ndnf-IRES2-dgCre     Inhibitory   8.629247   \n",
       "356 -62.698147  Ndnf-IRES2-dgCre     Inhibitory  25.978014   \n",
       "456 -72.557991  Ndnf-IRES2-dgCre     Inhibitory   9.050988   \n",
       "460 -75.740387  Ndnf-IRES2-dgCre     Inhibitory   8.572176   \n",
       "525 -65.245323  Ndnf-IRES2-dgCre     Inhibitory   8.652592   \n",
       "574 -71.806557  Ndnf-IRES2-dgCre     Inhibitory  10.630557   \n",
       "704 -75.434464  Ndnf-IRES2-dgCre     Inhibitory   5.897970   \n",
       "719 -68.262878  Ndnf-IRES2-dgCre     Inhibitory   9.680092   \n",
       "782 -72.636589  Ndnf-IRES2-dgCre     Inhibitory   8.774123   \n",
       "887 -72.164597  Ndnf-IRES2-dgCre     Inhibitory  16.705617   \n",
       "891 -74.506088  Ndnf-IRES2-dgCre     Inhibitory   8.441577   \n",
       "918 -66.556534  Ndnf-IRES2-dgCre     Inhibitory  15.529607   \n",
       "\n",
       "                        layer_full  acronym  \n",
       "70     Primary visual area layer 1    VISp1  \n",
       "99     Primary visual area layer 1    VISp1  \n",
       "258    Primary visual area layer 1    VISp1  \n",
       "264  Primary visual area layer 2/3  VISp2/3  \n",
       "356    Primary visual area layer 5    VISp5  \n",
       "456    Primary visual area layer 1    VISp1  \n",
       "460  Primary visual area layer 2/3  VISp2/3  \n",
       "525    Primary visual area layer 1    VISp1  \n",
       "574    Primary visual area layer 1    VISp1  \n",
       "704    Primary visual area layer 1    VISp1  \n",
       "719  Lateral visual area layer 2/3  VISl2/3  \n",
       "782  Primary visual area layer 2/3  VISp2/3  \n",
       "887   Primary visual area layer 6b   VISp6b  \n",
       "891    Primary visual area layer 1    VISp1  \n",
       "918    Primary visual area layer 5    VISp5  \n",
       "\n",
       "[15 rows x 43 columns]"
      ]
     },
     "execution_count": 34,
     "metadata": {},
     "output_type": "execute_result"
    }
   ],
   "source": [
    "cre.loc[cre['transgenic_line'] == 'Ndnf-IRES2-dgCre', ['binary_neuron']] = 'Inhibitory'\n",
    "cre.loc[cre['transgenic_line'] == 'Ndnf-IRES2-dgCre']"
   ]
  },
  {
   "cell_type": "code",
   "execution_count": 35,
   "metadata": {},
   "outputs": [
    {
     "data": {
      "text/plain": [
       "Rorb-IRES2-Cre      120\n",
       "Cux2-CreERT2         73\n",
       "Rbp4-Cre_KL100       72\n",
       "Nr5a1-Cre            69\n",
       "Scnn1a-Tg3-Cre       60\n",
       "Ntsr1-Cre_GN220      48\n",
       "Scnn1a-Tg2-Cre       36\n",
       "Ctgf-T2A-dgCre       26\n",
       "Slc17a6-IRES-Cre      3\n",
       "Name: transgenic_line, dtype: int64"
      ]
     },
     "execution_count": 35,
     "metadata": {},
     "output_type": "execute_result"
    }
   ],
   "source": [
    "cre.loc[cre['binary_neuron'] == 'Excitatory', 'transgenic_line'].value_counts()"
   ]
  },
  {
   "cell_type": "code",
   "execution_count": 36,
   "metadata": {},
   "outputs": [
    {
     "data": {
      "text/plain": [
       "Posterolateral visual area layer 6b        8\n",
       "Primary visual area layer 6b               7\n",
       "Lateral visual area layer 6b               3\n",
       "Primary visual area layer 6a               3\n",
       "Primary visual area layer 5                2\n",
       "Laterointermediate area layer 6b           1\n",
       "Anterior area layer 6b                     1\n",
       "Retrosplenial area dorsal part layer 6a    1\n",
       "Name: layer_full, dtype: int64"
      ]
     },
     "execution_count": 36,
     "metadata": {},
     "output_type": "execute_result"
    }
   ],
   "source": [
    "cre[cre['transgenic_line'] == 'Ctgf-T2A-dgCre']['layer_full'].value_counts()"
   ]
  },
  {
   "cell_type": "code",
   "execution_count": 37,
   "metadata": {},
   "outputs": [
    {
     "data": {
      "text/plain": [
       "Primary visual area layer 4          36\n",
       "Primary visual area layer 2/3        21\n",
       "Primary visual area layer 5          11\n",
       "Primary visual area layer 1           1\n",
       "posteromedial visual area layer 4     1\n",
       "posteromedial visual area layer 5     1\n",
       "Postrhinal area layer 5               1\n",
       "Lateral visual area layer 4           1\n",
       "Name: layer_full, dtype: int64"
      ]
     },
     "execution_count": 37,
     "metadata": {},
     "output_type": "execute_result"
    }
   ],
   "source": [
    "cre[cre['transgenic_line'] == 'Cux2-CreERT2']['layer_full'].value_counts()"
   ]
  },
  {
   "cell_type": "code",
   "execution_count": 38,
   "metadata": {},
   "outputs": [
    {
     "data": {
      "text/plain": [
       "Primary visual area layer 4            44\n",
       "Primary visual area layer 2/3          13\n",
       "posteromedial visual area layer 4       5\n",
       "Primary visual area layer 5             2\n",
       "Primary visual area layer 6a            2\n",
       "Anterolateral visual area layer 4       1\n",
       "posteromedial visual area layer 2/3     1\n",
       "Anteromedial visual area layer 2/3      1\n",
       "Name: layer_full, dtype: int64"
      ]
     },
     "execution_count": 38,
     "metadata": {},
     "output_type": "execute_result"
    }
   ],
   "source": [
    "cre[cre['transgenic_line'] == 'Nr5a1-Cre']['layer_full'].value_counts()"
   ]
  },
  {
   "cell_type": "code",
   "execution_count": 39,
   "metadata": {},
   "outputs": [
    {
     "data": {
      "text/plain": [
       "Primary visual area layer 6a         42\n",
       "Primary visual area layer 5           2\n",
       "posteromedial visual area layer 5     1\n",
       "Lateral visual area layer 6a          1\n",
       "Lateral visual area layer 5           1\n",
       "Primary visual area layer 6b          1\n",
       "Name: layer_full, dtype: int64"
      ]
     },
     "execution_count": 39,
     "metadata": {},
     "output_type": "execute_result"
    }
   ],
   "source": [
    "cre[cre['transgenic_line'] == 'Ntsr1-Cre_GN220']['layer_full'].value_counts()"
   ]
  },
  {
   "cell_type": "code",
   "execution_count": 40,
   "metadata": {},
   "outputs": [
    {
     "data": {
      "text/plain": [
       "Primary visual area layer 5          48\n",
       "Primary visual area layer 4          18\n",
       "Primary visual area layer 6a          2\n",
       "Lateral visual area layer 5           1\n",
       "posteromedial visual area layer 5     1\n",
       "Primary visual area layer 2/3         1\n",
       "Lateral visual area layer 4           1\n",
       "Name: layer_full, dtype: int64"
      ]
     },
     "execution_count": 40,
     "metadata": {},
     "output_type": "execute_result"
    }
   ],
   "source": [
    "cre[cre['transgenic_line'] == 'Rbp4-Cre_KL100']['layer_full'].value_counts()"
   ]
  },
  {
   "cell_type": "code",
   "execution_count": 41,
   "metadata": {},
   "outputs": [
    {
     "data": {
      "text/plain": [
       "Primary visual area layer 4                            68\n",
       "Primary visual area layer 5                            27\n",
       "Primary visual area layer 6a                            6\n",
       "Primary visual area layer 2/3                           5\n",
       "Lateral visual area layer 4                             4\n",
       "Lateral visual area layer 5                             2\n",
       "Laterointermediate area layer 4                         1\n",
       "Posterior auditory area layer 5                         1\n",
       "Posterolateral visual area layer 4                      1\n",
       "Posterolateral visual area layer 5                      1\n",
       "posteromedial visual area layer 4                       1\n",
       "posteromedial visual area layer 5                       1\n",
       "Postrhinal area layer 5                                 1\n",
       "Retrosplenial area lateral agranular part layer 2/3     1\n",
       "Name: layer_full, dtype: int64"
      ]
     },
     "execution_count": 41,
     "metadata": {},
     "output_type": "execute_result"
    }
   ],
   "source": [
    "cre[cre['transgenic_line'] == 'Rorb-IRES2-Cre']['layer_full'].value_counts()"
   ]
  },
  {
   "cell_type": "code",
   "execution_count": 42,
   "metadata": {},
   "outputs": [
    {
     "data": {
      "text/plain": [
       "Primary visual area layer 4          26\n",
       "Primary visual area layer 5           8\n",
       "posteromedial visual area layer 4     1\n",
       "posteromedial visual area layer 5     1\n",
       "Name: layer_full, dtype: int64"
      ]
     },
     "execution_count": 42,
     "metadata": {},
     "output_type": "execute_result"
    }
   ],
   "source": [
    "cre[cre['transgenic_line'] == 'Scnn1a-Tg2-Cre']['layer_full'].value_counts()"
   ]
  },
  {
   "cell_type": "code",
   "execution_count": 43,
   "metadata": {},
   "outputs": [
    {
     "data": {
      "text/plain": [
       "Primary visual area layer 4          38\n",
       "Primary visual area layer 5          11\n",
       "Postrhinal area layer 5               3\n",
       "Primary visual area layer 2/3         3\n",
       "posteromedial visual area layer 5     2\n",
       "Laterointermediate area layer 5       1\n",
       "Lateral visual area layer 4           1\n",
       "Anteromedial visual area layer 4      1\n",
       "Name: layer_full, dtype: int64"
      ]
     },
     "execution_count": 43,
     "metadata": {},
     "output_type": "execute_result"
    }
   ],
   "source": [
    "cre[cre['transgenic_line'] == 'Scnn1a-Tg3-Cre']['layer_full'].value_counts()"
   ]
  },
  {
   "cell_type": "code",
   "execution_count": 44,
   "metadata": {},
   "outputs": [
    {
     "data": {
      "text/plain": [
       "Primary visual area layer 2/3    2\n",
       "Primary visual area layer 4      1\n",
       "Name: layer_full, dtype: int64"
      ]
     },
     "execution_count": 44,
     "metadata": {},
     "output_type": "execute_result"
    }
   ],
   "source": [
    "cre[cre['transgenic_line'] == 'Slc17a6-IRES-Cre']['layer_full'].value_counts()"
   ]
  },
  {
   "cell_type": "code",
   "execution_count": 45,
   "metadata": {},
   "outputs": [],
   "source": [
    "# calculate for firing rate.\n",
    "cre['firing_rate'] = (1/cre['avg_isi'])*1000"
   ]
  },
  {
   "cell_type": "code",
   "execution_count": 46,
   "metadata": {},
   "outputs": [
    {
     "data": {
      "text/plain": [
       "0      3.300000\n",
       "1      3.480000\n",
       "2      3.475000\n",
       "3      3.508333\n",
       "4      3.560000\n",
       "5      3.597000\n",
       "6      3.541000\n",
       "7      3.311000\n",
       "8      3.390000\n",
       "9      3.570000\n",
       "10     3.478000\n",
       "11     3.030625\n",
       "12     3.508333\n",
       "13     3.841667\n",
       "14     3.140000\n",
       "15     3.462000\n",
       "16     3.427500\n",
       "17     3.160000\n",
       "18     3.318750\n",
       "19     3.580000\n",
       "20     3.336000\n",
       "21     3.432000\n",
       "22     3.256667\n",
       "23     3.460000\n",
       "24     3.657000\n",
       "25     3.525000\n",
       "26     3.320000\n",
       "27     3.673333\n",
       "28     3.672000\n",
       "29     3.344000\n",
       "         ...   \n",
       "939    3.430000\n",
       "940    3.392000\n",
       "941    3.365000\n",
       "942    3.735000\n",
       "943    3.420000\n",
       "944    3.373000\n",
       "945    3.436250\n",
       "946    3.405000\n",
       "947    3.410000\n",
       "948    3.280000\n",
       "949    3.515000\n",
       "950    3.385000\n",
       "951    3.342500\n",
       "952    3.215000\n",
       "953    3.227000\n",
       "954    3.710000\n",
       "955    3.448750\n",
       "956    3.315000\n",
       "957    3.552000\n",
       "958    3.524000\n",
       "959    3.343750\n",
       "960    3.292000\n",
       "961    3.447500\n",
       "962    3.303000\n",
       "963    3.493750\n",
       "964    3.413750\n",
       "965    3.576000\n",
       "966    3.410000\n",
       "967    3.445000\n",
       "968    3.592000\n",
       "Name: peak_t_short_square, Length: 969, dtype: float64"
      ]
     },
     "execution_count": 46,
     "metadata": {},
     "output_type": "execute_result"
    }
   ],
   "source": [
    "cre['peak_t_short_square']= (cre['peak_t_short_square']-1.02)*1000\n",
    "cre['peak_t_short_square']\n",
    "# make time unit as 3ms, short square pulse stimuli applied 3ms, so the start of stimuli set to zero."
   ]
  },
  {
   "cell_type": "code",
   "execution_count": 47,
   "metadata": {},
   "outputs": [
    {
     "data": {
      "text/plain": [
       "0      2.913333\n",
       "1      3.159000\n",
       "2      3.001000\n",
       "3      3.130000\n",
       "4      3.120000\n",
       "5      2.979000\n",
       "6      3.197000\n",
       "7      3.032000\n",
       "8      3.010000\n",
       "9      3.142000\n",
       "10     2.943000\n",
       "11     2.731875\n",
       "12     3.150000\n",
       "13     3.266667\n",
       "14     2.917000\n",
       "15     2.979000\n",
       "16     3.043750\n",
       "17     2.746667\n",
       "18     3.002500\n",
       "19     3.103000\n",
       "20     2.946000\n",
       "21     3.123000\n",
       "22     2.856667\n",
       "23     3.104000\n",
       "24     3.137000\n",
       "25     3.155000\n",
       "26     2.970000\n",
       "27     3.191667\n",
       "28     3.168000\n",
       "29     2.985000\n",
       "         ...   \n",
       "939    3.055000\n",
       "940    3.055000\n",
       "941    2.948333\n",
       "942    3.289000\n",
       "943    3.092500\n",
       "944    3.033000\n",
       "945    3.061250\n",
       "946    3.046000\n",
       "947    3.025000\n",
       "948    2.970000\n",
       "949    3.114000\n",
       "950    3.055000\n",
       "951    3.040000\n",
       "952    2.895000\n",
       "953    2.994000\n",
       "954    3.190000\n",
       "955    3.090000\n",
       "956    3.053000\n",
       "957    3.120000\n",
       "958    3.144000\n",
       "959    2.983750\n",
       "960    3.008000\n",
       "961    3.077500\n",
       "962    3.033000\n",
       "963    3.192500\n",
       "964    3.025000\n",
       "965    3.132000\n",
       "966    3.095000\n",
       "967    3.065000\n",
       "968    3.164000\n",
       "Name: threshold_t_short_square, Length: 969, dtype: float64"
      ]
     },
     "execution_count": 47,
     "metadata": {},
     "output_type": "execute_result"
    }
   ],
   "source": [
    "cre['threshold_t_short_square'] = (cre['threshold_t_short_square']-1.02)*1000\n",
    "cre['threshold_t_short_square']"
   ]
  },
  {
   "cell_type": "code",
   "execution_count": 48,
   "metadata": {},
   "outputs": [
    {
     "data": {
      "text/plain": [
       "0      4.873333\n",
       "1      4.593000\n",
       "2      7.302000\n",
       "3      4.665833\n",
       "4      5.426667\n",
       "5      5.615000\n",
       "6      4.461000\n",
       "7      4.103000\n",
       "8      4.870000\n",
       "9      5.506000\n",
       "10     5.854000\n",
       "11     3.790625\n",
       "12     4.195833\n",
       "13     5.882500\n",
       "14     3.625000\n",
       "15     5.411000\n",
       "16     4.420000\n",
       "17     4.846667\n",
       "18     4.180000\n",
       "19     5.553000\n",
       "20     5.011000\n",
       "21     4.358000\n",
       "22     4.471667\n",
       "23     5.428000\n",
       "24     7.009000\n",
       "25     4.895000\n",
       "26     4.625000\n",
       "27     6.062500\n",
       "28     5.740000\n",
       "29     4.485000\n",
       "         ...   \n",
       "939    4.815000\n",
       "940    4.841000\n",
       "941    5.006667\n",
       "942    6.266000\n",
       "943    5.032500\n",
       "944    4.921000\n",
       "945    9.810000\n",
       "946    6.005000\n",
       "947    5.352500\n",
       "948    4.520000\n",
       "949    7.092000\n",
       "950    4.130000\n",
       "951    8.495000\n",
       "952    4.122500\n",
       "953    3.877000\n",
       "954    6.587857\n",
       "955    5.132500\n",
       "956    3.969000\n",
       "957    5.192000\n",
       "958    5.352000\n",
       "959    5.056250\n",
       "960    4.348000\n",
       "961    9.131250\n",
       "962    3.975000\n",
       "963    4.292500\n",
       "964    5.281250\n",
       "965    5.360000\n",
       "966    4.603750\n",
       "967    4.965000\n",
       "968    5.576000\n",
       "Name: fast_trough_t_short_square, Length: 969, dtype: float64"
      ]
     },
     "execution_count": 48,
     "metadata": {},
     "output_type": "execute_result"
    }
   ],
   "source": [
    "cre['fast_trough_t_short_square'] = (cre['fast_trough_t_short_square']-1.02)*1000\n",
    "cre['fast_trough_t_short_square']"
   ]
  },
  {
   "cell_type": "code",
   "execution_count": 49,
   "metadata": {},
   "outputs": [
    {
     "data": {
      "text/plain": [
       "0      324.913333\n",
       "1      213.473000\n",
       "2      671.744000\n",
       "3      475.571667\n",
       "4      110.500000\n",
       "5      453.574000\n",
       "6      527.561000\n",
       "7      436.287000\n",
       "8      489.350000\n",
       "9      231.151000\n",
       "10     557.570000\n",
       "11     343.485625\n",
       "12     377.621667\n",
       "13      34.124167\n",
       "14     673.986000\n",
       "15     391.247000\n",
       "16     291.541250\n",
       "17     811.826667\n",
       "18     230.333750\n",
       "19     426.244000\n",
       "20     592.528000\n",
       "21     395.886000\n",
       "22     810.231667\n",
       "23     585.676000\n",
       "24     505.379000\n",
       "25     518.510000\n",
       "26     835.710000\n",
       "27     527.079167\n",
       "28      97.364000\n",
       "29     720.821000\n",
       "          ...    \n",
       "939    669.315000\n",
       "940    510.804000\n",
       "941    689.963333\n",
       "942    338.333000\n",
       "943    446.345000\n",
       "944    510.155000\n",
       "945     27.485000\n",
       "946    129.956000\n",
       "947     66.213333\n",
       "948    585.140000\n",
       "949    589.005000\n",
       "950    227.725000\n",
       "951    179.678750\n",
       "952      4.257500\n",
       "953    612.955000\n",
       "954    618.815000\n",
       "955    619.258750\n",
       "956    561.903000\n",
       "957    584.992000\n",
       "958    124.844000\n",
       "959    682.153750\n",
       "960    458.228000\n",
       "961    512.405000\n",
       "962     68.214000\n",
       "963     26.291250\n",
       "964    657.151250\n",
       "965    711.604000\n",
       "966    563.697500\n",
       "967    722.640000\n",
       "968    283.492000\n",
       "Name: trough_t_short_square, Length: 969, dtype: float64"
      ]
     },
     "execution_count": 49,
     "metadata": {},
     "output_type": "execute_result"
    }
   ],
   "source": [
    "cre['trough_t_short_square'] = (cre['trough_t_short_square']-1.02)*1000\n",
    "cre['trough_t_short_square']"
   ]
  },
  {
   "cell_type": "code",
   "execution_count": 51,
   "metadata": {},
   "outputs": [],
   "source": [
    "cre['threshold_t_long_square'] = (cre['threshold_t_long_square']-1.02)*1000\n",
    "cre['peak_t_long_square'] = (cre['peak_t_long_square']-1.02)*1000\n",
    "cre['fast_trough_t_long_square'] = (cre['fast_trough_t_long_square']-1.02)*1000\n",
    "cre['trough_t_long_square'] = (cre['trough_t_long_square']-1.02)*1000\n",
    "# make time unit as ms, long square pulse stimuli applied for 1 s from 100 ms of sweep\n",
    "# the start of stimuli set to zero."
   ]
  },
  {
   "cell_type": "code",
   "execution_count": 52,
   "metadata": {},
   "outputs": [],
   "source": [
    "cre['threshold_t_ramp'] = cre['threshold_t_ramp'] - 1.02\n",
    "cre['peak_t_ramp'] = cre['peak_t_ramp'] -1.02\n",
    "cre['fast_trough_t_ramp'] = cre['fast_trough_t_ramp'] - 1.02\n",
    "cre['trough_t_ramp'] = cre['trough_t_ramp'] - 1.02\n",
    "# ramp stimuli applied from 1.0 s of sweep\n",
    "# the start of stimuli set to zero."
   ]
  },
  {
   "cell_type": "code",
   "execution_count": 54,
   "metadata": {},
   "outputs": [
    {
     "data": {
      "text/plain": [
       "0      0.420\n",
       "1      0.390\n",
       "2      0.570\n",
       "3      0.415\n",
       "4      0.540\n",
       "5      0.665\n",
       "6      0.385\n",
       "7      0.320\n",
       "8      0.420\n",
       "9      0.525\n",
       "10     0.630\n",
       "11     0.330\n",
       "12     0.380\n",
       "13     0.680\n",
       "14     0.260\n",
       "15     0.510\n",
       "16     0.400\n",
       "17     0.500\n",
       "18     0.325\n",
       "19     0.615\n",
       "20     0.470\n",
       "21     0.335\n",
       "22     0.470\n",
       "23     0.440\n",
       "24     0.725\n",
       "25     0.420\n",
       "26     0.390\n",
       "27     0.495\n",
       "28     0.660\n",
       "29     0.400\n",
       "       ...  \n",
       "939    0.435\n",
       "940    0.385\n",
       "941    0.455\n",
       "942    0.505\n",
       "943    0.545\n",
       "944    0.400\n",
       "945    0.460\n",
       "946    0.420\n",
       "947    0.465\n",
       "948    0.360\n",
       "949    0.485\n",
       "950    0.360\n",
       "951    0.415\n",
       "952    0.365\n",
       "953    0.270\n",
       "954    0.645\n",
       "955    0.460\n",
       "956    0.385\n",
       "957    0.500\n",
       "958    0.420\n",
       "959    0.415\n",
       "960    0.340\n",
       "961    0.510\n",
       "962    0.305\n",
       "963    0.315\n",
       "964    0.485\n",
       "965    0.520\n",
       "966    0.360\n",
       "967    0.420\n",
       "968    0.500\n",
       "Length: 969, dtype: float64"
      ]
     },
     "execution_count": 54,
     "metadata": {},
     "output_type": "execute_result"
    }
   ],
   "source": [
    "cre['peak_t_long_square'] - cre['threshold_t_long_square']"
   ]
  },
  {
   "cell_type": "code",
   "execution_count": null,
   "metadata": {},
   "outputs": [],
   "source": []
  },
  {
   "cell_type": "code",
   "execution_count": 55,
   "metadata": {},
   "outputs": [],
   "source": [
    "cre['height_short'] = cre['peak_v_short_square'] -cre['fast_trough_v_short_square']\n",
    "cre['height_long'] = cre['peak_v_long_square'] - cre['fast_trough_v_long_square']\n",
    "cre['height_ramp'] = cre['peak_v_ramp'] - cre['fast_trough_v_ramp']"
   ]
  },
  {
   "cell_type": "code",
   "execution_count": 56,
   "metadata": {},
   "outputs": [
    {
     "data": {
      "text/plain": [
       "<bound method Series.mean of 0       0.187496\n",
       "1     -22.099999\n",
       "2      -2.700003\n",
       "3      -8.223962\n",
       "4      -9.635417\n",
       "5      -6.293752\n",
       "6      -6.718746\n",
       "7     -13.662500\n",
       "8      -4.562498\n",
       "9      -8.037503\n",
       "10     -4.874999\n",
       "11     -3.972647\n",
       "12     -0.749999\n",
       "13    -11.859377\n",
       "14    -13.056254\n",
       "15     -4.850003\n",
       "16     -2.234374\n",
       "17     -2.489583\n",
       "18     -3.273437\n",
       "19     -7.656248\n",
       "20    -10.331248\n",
       "21     -0.293748\n",
       "22     -1.500002\n",
       "23     -8.206251\n",
       "24    -10.037502\n",
       "25     -3.007812\n",
       "26     -2.718750\n",
       "27     -6.911457\n",
       "28     -9.443750\n",
       "29     -1.706247\n",
       "         ...    \n",
       "939    -6.218749\n",
       "940    -6.118752\n",
       "941     6.052085\n",
       "942    -7.125002\n",
       "943   -27.765625\n",
       "944    -3.981248\n",
       "945    -4.148438\n",
       "946    -5.131252\n",
       "947    -8.656249\n",
       "948    -2.007816\n",
       "949    -9.474995\n",
       "950    -4.367189\n",
       "951   -11.320311\n",
       "952   -13.906254\n",
       "953    -4.537498\n",
       "954    -7.058038\n",
       "955    -9.882810\n",
       "956   -15.675001\n",
       "957   -10.212505\n",
       "958    -3.600000\n",
       "959    -0.414067\n",
       "960   -11.150001\n",
       "961   -13.718753\n",
       "962    -9.350000\n",
       "963    -7.437502\n",
       "964   -10.773438\n",
       "965    -6.118749\n",
       "966    -1.601565\n",
       "967    -3.507812\n",
       "968   -17.656255\n",
       "Length: 969, dtype: float64>"
      ]
     },
     "execution_count": 56,
     "metadata": {},
     "output_type": "execute_result"
    }
   ],
   "source": [
    "(cre['height_long'] - cre['height_short']).mean"
   ]
  },
  {
   "cell_type": "code",
   "execution_count": 57,
   "metadata": {},
   "outputs": [
    {
     "data": {
      "text/plain": [
       "<bound method Series.mean of 0      -0.833333\n",
       "1     -20.000001\n",
       "2      -7.718753\n",
       "3       3.843746\n",
       "4      -1.875001\n",
       "5     -10.916670\n",
       "6       2.427087\n",
       "7      -0.020831\n",
       "8      -3.458332\n",
       "9     -16.208337\n",
       "10     -1.562497\n",
       "11           NaN\n",
       "12      2.197920\n",
       "13     -9.645837\n",
       "14     14.249996\n",
       "15     -3.635420\n",
       "16     -4.249997\n",
       "17     -2.062499\n",
       "18     -0.552080\n",
       "19      3.520835\n",
       "20      7.552085\n",
       "21      2.875002\n",
       "22     -0.812500\n",
       "23     -4.624996\n",
       "24     -5.104167\n",
       "25     -0.937500\n",
       "26     -0.187496\n",
       "27           NaN\n",
       "28     -3.979164\n",
       "29      1.250004\n",
       "         ...    \n",
       "939    -1.197917\n",
       "940     3.781252\n",
       "941     3.552086\n",
       "942    -4.250003\n",
       "943   -15.895835\n",
       "944    -6.458330\n",
       "945   -10.729166\n",
       "946    -2.364583\n",
       "947    -3.291666\n",
       "948     0.291660\n",
       "949    -4.218744\n",
       "950     4.999998\n",
       "951    -7.124999\n",
       "952   -15.687505\n",
       "953     7.833336\n",
       "954   -13.145835\n",
       "955    -0.604164\n",
       "956     8.656252\n",
       "957    -4.197919\n",
       "958    -2.447918\n",
       "959     0.156244\n",
       "960     4.250002\n",
       "961   -10.531254\n",
       "962    24.125000\n",
       "963    13.953124\n",
       "964   -11.302085\n",
       "965    -4.322918\n",
       "966    -4.989583\n",
       "967    -4.760415\n",
       "968   -11.729170\n",
       "Length: 969, dtype: float64>"
      ]
     },
     "execution_count": 57,
     "metadata": {},
     "output_type": "execute_result"
    }
   ],
   "source": [
    "(cre['height_long'] - cre['height_ramp']).mean"
   ]
  },
  {
   "cell_type": "code",
   "execution_count": 58,
   "metadata": {},
   "outputs": [
    {
     "data": {
      "text/plain": [
       "<bound method Series.mean of 0       1.020830\n",
       "1      -2.099998\n",
       "2       5.018749\n",
       "3     -12.067707\n",
       "4      -7.760415\n",
       "5       4.622918\n",
       "6      -9.145833\n",
       "7     -13.641668\n",
       "8      -1.104166\n",
       "9       8.170833\n",
       "10     -3.312502\n",
       "11           NaN\n",
       "12     -2.947919\n",
       "13     -2.213540\n",
       "14    -27.306250\n",
       "15     -1.214583\n",
       "16      2.015624\n",
       "17     -0.427085\n",
       "18     -2.721357\n",
       "19    -11.177083\n",
       "20    -17.883333\n",
       "21     -3.168750\n",
       "22     -0.687502\n",
       "23     -3.581255\n",
       "24     -4.933336\n",
       "25     -2.070312\n",
       "26     -2.531254\n",
       "27           NaN\n",
       "28     -5.464586\n",
       "29     -2.956251\n",
       "         ...    \n",
       "939    -5.020832\n",
       "940    -9.900003\n",
       "941     2.499999\n",
       "942    -2.874999\n",
       "943   -11.869790\n",
       "944     2.477082\n",
       "945     6.580729\n",
       "946    -2.766668\n",
       "947    -5.364583\n",
       "948    -2.299477\n",
       "949    -5.256251\n",
       "950    -9.367187\n",
       "951    -4.195312\n",
       "952     1.781251\n",
       "953   -12.370834\n",
       "954     6.087796\n",
       "955    -9.278646\n",
       "956   -24.331252\n",
       "957    -6.014586\n",
       "958    -1.152082\n",
       "959    -0.570312\n",
       "960   -15.400003\n",
       "961    -3.187499\n",
       "962   -33.475000\n",
       "963   -21.390626\n",
       "964     0.528647\n",
       "965    -1.795831\n",
       "966     3.388018\n",
       "967     1.252603\n",
       "968    -5.927085\n",
       "Length: 969, dtype: float64>"
      ]
     },
     "execution_count": 58,
     "metadata": {},
     "output_type": "execute_result"
    }
   ],
   "source": [
    "(cre['height_ramp'] - cre['height_short']).mean"
   ]
  },
  {
   "cell_type": "code",
   "execution_count": 59,
   "metadata": {},
   "outputs": [
    {
     "name": "stdout",
     "output_type": "stream",
     "text": [
      "<class 'pandas.core.frame.DataFrame'>\n",
      "RangeIndex: 969 entries, 0 to 968\n",
      "Data columns (total 47 columns):\n",
      "specimen_id                               969 non-null int64\n",
      "adaptation                                969 non-null float64\n",
      "avg_isi                                   969 non-null float64\n",
      "f_i_curve_slope                           969 non-null float64\n",
      "fast_trough_t_long_square                 969 non-null float64\n",
      "fast_trough_t_ramp                        934 non-null float64\n",
      "fast_trough_t_short_square                969 non-null float64\n",
      "fast_trough_v_long_square                 969 non-null float64\n",
      "fast_trough_v_ramp                        934 non-null float64\n",
      "fast_trough_v_short_square                969 non-null float64\n",
      "latency                                   969 non-null float64\n",
      "peak_t_long_square                        969 non-null float64\n",
      "peak_t_ramp                               934 non-null float64\n",
      "peak_t_short_square                       969 non-null float64\n",
      "peak_v_long_square                        969 non-null float64\n",
      "peak_v_ramp                               934 non-null float64\n",
      "peak_v_short_square                       969 non-null float64\n",
      "ri                                        969 non-null float64\n",
      "sag                                       969 non-null float64\n",
      "threshold_i_long_square                   969 non-null float64\n",
      "threshold_i_ramp                          934 non-null float64\n",
      "threshold_i_short_square                  969 non-null float64\n",
      "threshold_t_long_square                   969 non-null float64\n",
      "threshold_t_ramp                          934 non-null float64\n",
      "threshold_t_short_square                  969 non-null float64\n",
      "threshold_v_long_square                   969 non-null float64\n",
      "threshold_v_ramp                          934 non-null float64\n",
      "threshold_v_short_square                  969 non-null float64\n",
      "trough_t_long_square                      969 non-null float64\n",
      "trough_t_ramp                             934 non-null float64\n",
      "trough_t_short_square                     969 non-null float64\n",
      "trough_v_long_square                      969 non-null float64\n",
      "trough_v_ramp                             934 non-null float64\n",
      "trough_v_short_square                     969 non-null float64\n",
      "upstroke_downstroke_ratio_long_square     969 non-null float64\n",
      "upstroke_downstroke_ratio_ramp            934 non-null float64\n",
      "upstroke_downstroke_ratio_short_square    969 non-null float64\n",
      "vrest                                     969 non-null float64\n",
      "transgenic_line                           969 non-null object\n",
      "binary_neuron                             969 non-null object\n",
      "tau                                       969 non-null float64\n",
      "layer_full                                969 non-null object\n",
      "acronym                                   969 non-null object\n",
      "firing_rate                               969 non-null float64\n",
      "height_short                              969 non-null float64\n",
      "height_long                               969 non-null float64\n",
      "height_ramp                               934 non-null float64\n",
      "dtypes: float64(42), int64(1), object(4)\n",
      "memory usage: 355.9+ KB\n"
     ]
    }
   ],
   "source": [
    "cre.info()"
   ]
  },
  {
   "cell_type": "code",
   "execution_count": 60,
   "metadata": {},
   "outputs": [
    {
     "name": "stdout",
     "output_type": "stream",
     "text": [
      "<class 'pandas.core.frame.DataFrame'>\n",
      "RangeIndex: 969 entries, 0 to 968\n",
      "Data columns (total 47 columns):\n",
      "specimen_id                               969 non-null int64\n",
      "adaptation                                969 non-null float64\n",
      "avg_isi                                   969 non-null float64\n",
      "f_i_curve_slope                           969 non-null float64\n",
      "fast_trough_t_long_square                 969 non-null float64\n",
      "fast_trough_t_ramp                        934 non-null float64\n",
      "fast_trough_t_short_square                969 non-null float64\n",
      "fast_trough_v_long_square                 969 non-null float64\n",
      "fast_trough_v_ramp                        934 non-null float64\n",
      "fast_trough_v_short_square                969 non-null float64\n",
      "latency                                   969 non-null float64\n",
      "peak_t_long_square                        969 non-null float64\n",
      "peak_t_ramp                               934 non-null float64\n",
      "peak_t_short_square                       969 non-null float64\n",
      "peak_v_long_square                        969 non-null float64\n",
      "peak_v_ramp                               934 non-null float64\n",
      "peak_v_short_square                       969 non-null float64\n",
      "ri                                        969 non-null float64\n",
      "sag                                       969 non-null float64\n",
      "threshold_i_long_square                   969 non-null float64\n",
      "threshold_i_ramp                          934 non-null float64\n",
      "threshold_i_short_square                  969 non-null float64\n",
      "threshold_t_long_square                   969 non-null float64\n",
      "threshold_t_ramp                          934 non-null float64\n",
      "threshold_t_short_square                  969 non-null float64\n",
      "threshold_v_long_square                   969 non-null float64\n",
      "threshold_v_ramp                          934 non-null float64\n",
      "threshold_v_short_square                  969 non-null float64\n",
      "trough_t_long_square                      969 non-null float64\n",
      "trough_t_ramp                             934 non-null float64\n",
      "trough_t_short_square                     969 non-null float64\n",
      "trough_v_long_square                      969 non-null float64\n",
      "trough_v_ramp                             934 non-null float64\n",
      "trough_v_short_square                     969 non-null float64\n",
      "upstroke_downstroke_ratio_long_square     969 non-null float64\n",
      "upstroke_downstroke_ratio_ramp            934 non-null float64\n",
      "upstroke_downstroke_ratio_short_square    969 non-null float64\n",
      "vrest                                     969 non-null float64\n",
      "transgenic_line                           969 non-null object\n",
      "binary_neuron                             969 non-null object\n",
      "tau                                       969 non-null float64\n",
      "layer_full                                969 non-null object\n",
      "acronym                                   969 non-null object\n",
      "firing_rate                               969 non-null float64\n",
      "height_short                              969 non-null float64\n",
      "height_long                               969 non-null float64\n",
      "height_ramp                               934 non-null float64\n",
      "dtypes: float64(42), int64(1), object(4)\n",
      "memory usage: 355.9+ KB\n"
     ]
    }
   ],
   "source": [
    "cre.info()"
   ]
  },
  {
   "cell_type": "code",
   "execution_count": 61,
   "metadata": {},
   "outputs": [
    {
     "data": {
      "text/plain": [
       "Pvalb-IRES-Cre       142\n",
       "Rorb-IRES2-Cre       120\n",
       "Sst-IRES-Cre         111\n",
       "Htr3a-Cre_NO152       89\n",
       "Cux2-CreERT2          73\n",
       "Rbp4-Cre_KL100        72\n",
       "Nr5a1-Cre             69\n",
       "Scnn1a-Tg3-Cre        60\n",
       "Ntsr1-Cre_GN220       48\n",
       "Scnn1a-Tg2-Cre        36\n",
       "Chrna2-Cre_OE25       31\n",
       "Ctgf-T2A-dgCre        26\n",
       "Nkx2-1-CreERT2        23\n",
       "Vip-IRES-Cre          20\n",
       "Chat-IRES-Cre-neo     20\n",
       "Ndnf-IRES2-dgCre      15\n",
       "Gad2-IRES-Cre         11\n",
       "Slc17a6-IRES-Cre       3\n",
       "Name: transgenic_line, dtype: int64"
      ]
     },
     "execution_count": 61,
     "metadata": {},
     "output_type": "execute_result"
    }
   ],
   "source": [
    "cre['transgenic_line'].value_counts()"
   ]
  },
  {
   "cell_type": "code",
   "execution_count": 62,
   "metadata": {},
   "outputs": [
    {
     "data": {
      "text/plain": [
       "Primary visual area layer 4                            231\n",
       "Primary visual area layer 5                            111\n",
       "Primary visual area layer 6a                            55\n",
       "Primary visual area layer 2/3                           45\n",
       "Posterolateral visual area layer 6b                      8\n",
       "posteromedial visual area layer 4                        8\n",
       "Primary visual area layer 6b                             8\n",
       "posteromedial visual area layer 5                        7\n",
       "Lateral visual area layer 4                              7\n",
       "Postrhinal area layer 5                                  5\n",
       "Lateral visual area layer 5                              4\n",
       "Lateral visual area layer 6b                             3\n",
       "posteromedial visual area layer 2/3                      1\n",
       "Posterolateral visual area layer 4                       1\n",
       "Laterointermediate area layer 6b                         1\n",
       "Anteromedial visual area layer 2/3                       1\n",
       "Anteromedial visual area layer 4                         1\n",
       "Anterior area layer 6b                                   1\n",
       "Primary visual area layer 1                              1\n",
       "Laterointermediate area layer 5                          1\n",
       "Retrosplenial area lateral agranular part layer 2/3      1\n",
       "Laterointermediate area layer 4                          1\n",
       "Posterior auditory area layer 5                          1\n",
       "Posterolateral visual area layer 5                       1\n",
       "Retrosplenial area dorsal part layer 6a                  1\n",
       "Lateral visual area layer 6a                             1\n",
       "Anterolateral visual area layer 4                        1\n",
       "Name: layer_full, dtype: int64"
      ]
     },
     "execution_count": 62,
     "metadata": {},
     "output_type": "execute_result"
    }
   ],
   "source": [
    "cre[cre['binary_neuron'] == 'Excitatory']['layer_full'].value_counts()"
   ]
  },
  {
   "cell_type": "code",
   "execution_count": 63,
   "metadata": {},
   "outputs": [
    {
     "data": {
      "text/plain": [
       "VISp4        231\n",
       "VISp5        111\n",
       "VISp6a        55\n",
       "VISp2/3       45\n",
       "VISpl6b        8\n",
       "VISp6b         8\n",
       "VISpm4         8\n",
       "VISpm5         7\n",
       "VISl4          7\n",
       "VISpor5        5\n",
       "VISl5          4\n",
       "VISl6b         3\n",
       "RSPd6a         1\n",
       "VISam4         1\n",
       "RSPagl2/3      1\n",
       "AUDpo5         1\n",
       "VISp1          1\n",
       "VISam2/3       1\n",
       "VISli6b        1\n",
       "VISli4         1\n",
       "VISli5         1\n",
       "VISpl5         1\n",
       "VISal4         1\n",
       "VISa6b         1\n",
       "VISpm2/3       1\n",
       "VISpl4         1\n",
       "VISl6a         1\n",
       "Name: acronym, dtype: int64"
      ]
     },
     "execution_count": 63,
     "metadata": {},
     "output_type": "execute_result"
    }
   ],
   "source": [
    "cre[cre['binary_neuron'] == 'Excitatory']['acronym'].value_counts()"
   ]
  },
  {
   "cell_type": "code",
   "execution_count": 65,
   "metadata": {},
   "outputs": [
    {
     "data": {
      "text/html": [
       "<div>\n",
       "<style>\n",
       "    .dataframe thead tr:only-child th {\n",
       "        text-align: right;\n",
       "    }\n",
       "\n",
       "    .dataframe thead th {\n",
       "        text-align: left;\n",
       "    }\n",
       "\n",
       "    .dataframe tbody tr th {\n",
       "        vertical-align: top;\n",
       "    }\n",
       "</style>\n",
       "<table border=\"1\" class=\"dataframe\">\n",
       "  <thead>\n",
       "    <tr style=\"text-align: right;\">\n",
       "      <th></th>\n",
       "      <th>specimen_id</th>\n",
       "      <th>adaptation</th>\n",
       "      <th>avg_isi</th>\n",
       "      <th>f_i_curve_slope</th>\n",
       "      <th>fast_trough_t_long_square</th>\n",
       "      <th>fast_trough_t_ramp</th>\n",
       "      <th>fast_trough_t_short_square</th>\n",
       "      <th>fast_trough_v_long_square</th>\n",
       "      <th>fast_trough_v_ramp</th>\n",
       "      <th>fast_trough_v_short_square</th>\n",
       "      <th>...</th>\n",
       "      <th>vrest</th>\n",
       "      <th>transgenic_line</th>\n",
       "      <th>binary_neuron</th>\n",
       "      <th>tau</th>\n",
       "      <th>layer_full</th>\n",
       "      <th>acronym</th>\n",
       "      <th>firing_rate</th>\n",
       "      <th>height_short</th>\n",
       "      <th>height_long</th>\n",
       "      <th>height_ramp</th>\n",
       "    </tr>\n",
       "  </thead>\n",
       "  <tbody>\n",
       "    <tr>\n",
       "      <th>0</th>\n",
       "      <td>569653118</td>\n",
       "      <td>0.064384</td>\n",
       "      <td>76.283333</td>\n",
       "      <td>0.195247</td>\n",
       "      <td>82.66</td>\n",
       "      <td>2.985247</td>\n",
       "      <td>4.873333</td>\n",
       "      <td>-48.718750</td>\n",
       "      <td>-49.875001</td>\n",
       "      <td>-51.500004</td>\n",
       "      <td>...</td>\n",
       "      <td>-66.085068</td>\n",
       "      <td>Chrna2-Cre_OE25</td>\n",
       "      <td>Inhibitory</td>\n",
       "      <td>12.149962</td>\n",
       "      <td>Lateral visual area layer 5</td>\n",
       "      <td>VISl5</td>\n",
       "      <td>13.109023</td>\n",
       "      <td>105.031258</td>\n",
       "      <td>105.218754</td>\n",
       "      <td>106.052087</td>\n",
       "    </tr>\n",
       "    <tr>\n",
       "      <th>1</th>\n",
       "      <td>485466109</td>\n",
       "      <td>0.048709</td>\n",
       "      <td>118.397143</td>\n",
       "      <td>0.307589</td>\n",
       "      <td>49.77</td>\n",
       "      <td>6.183945</td>\n",
       "      <td>4.593000</td>\n",
       "      <td>-45.968754</td>\n",
       "      <td>-49.093754</td>\n",
       "      <td>-53.800002</td>\n",
       "      <td>...</td>\n",
       "      <td>-65.503044</td>\n",
       "      <td>Sst-IRES-Cre</td>\n",
       "      <td>Inhibitory</td>\n",
       "      <td>13.757958</td>\n",
       "      <td>Primary visual area layer 2/3</td>\n",
       "      <td>VISp2/3</td>\n",
       "      <td>8.446150</td>\n",
       "      <td>81.287503</td>\n",
       "      <td>59.187504</td>\n",
       "      <td>79.187505</td>\n",
       "    </tr>\n",
       "    <tr>\n",
       "      <th>2</th>\n",
       "      <td>483057325</td>\n",
       "      <td>0.042215</td>\n",
       "      <td>81.394545</td>\n",
       "      <td>0.162729</td>\n",
       "      <td>69.75</td>\n",
       "      <td>1.316427</td>\n",
       "      <td>7.302000</td>\n",
       "      <td>-48.906250</td>\n",
       "      <td>-51.083335</td>\n",
       "      <td>-55.800002</td>\n",
       "      <td>...</td>\n",
       "      <td>-72.174675</td>\n",
       "      <td>Cux2-CreERT2</td>\n",
       "      <td>Excitatory</td>\n",
       "      <td>21.945011</td>\n",
       "      <td>Primary visual area layer 4</td>\n",
       "      <td>VISp4</td>\n",
       "      <td>12.285836</td>\n",
       "      <td>84.887503</td>\n",
       "      <td>82.187500</td>\n",
       "      <td>89.906253</td>\n",
       "    </tr>\n",
       "    <tr>\n",
       "      <th>3</th>\n",
       "      <td>488440436</td>\n",
       "      <td>0.002560</td>\n",
       "      <td>18.282170</td>\n",
       "      <td>0.656473</td>\n",
       "      <td>30.44</td>\n",
       "      <td>6.500155</td>\n",
       "      <td>4.665833</td>\n",
       "      <td>-59.500000</td>\n",
       "      <td>-58.125004</td>\n",
       "      <td>-61.609378</td>\n",
       "      <td>...</td>\n",
       "      <td>-73.008224</td>\n",
       "      <td>Pvalb-IRES-Cre</td>\n",
       "      <td>Inhibitory</td>\n",
       "      <td>8.355113</td>\n",
       "      <td>Primary visual area layer 5</td>\n",
       "      <td>VISp5</td>\n",
       "      <td>54.698103</td>\n",
       "      <td>88.661462</td>\n",
       "      <td>80.437500</td>\n",
       "      <td>76.593754</td>\n",
       "    </tr>\n",
       "    <tr>\n",
       "      <th>4</th>\n",
       "      <td>501566512</td>\n",
       "      <td>0.542358</td>\n",
       "      <td>307.100000</td>\n",
       "      <td>0.155347</td>\n",
       "      <td>65.16</td>\n",
       "      <td>7.516707</td>\n",
       "      <td>5.426667</td>\n",
       "      <td>-47.000000</td>\n",
       "      <td>-46.927086</td>\n",
       "      <td>-55.093753</td>\n",
       "      <td>...</td>\n",
       "      <td>-80.050621</td>\n",
       "      <td>Ntsr1-Cre_GN220</td>\n",
       "      <td>Excitatory</td>\n",
       "      <td>14.181895</td>\n",
       "      <td>Primary visual area layer 6a</td>\n",
       "      <td>VISp6a</td>\n",
       "      <td>3.256268</td>\n",
       "      <td>97.416670</td>\n",
       "      <td>87.781254</td>\n",
       "      <td>89.656255</td>\n",
       "    </tr>\n",
       "  </tbody>\n",
       "</table>\n",
       "<p>5 rows × 47 columns</p>\n",
       "</div>"
      ],
      "text/plain": [
       "   specimen_id  adaptation     avg_isi  f_i_curve_slope  \\\n",
       "0    569653118    0.064384   76.283333         0.195247   \n",
       "1    485466109    0.048709  118.397143         0.307589   \n",
       "2    483057325    0.042215   81.394545         0.162729   \n",
       "3    488440436    0.002560   18.282170         0.656473   \n",
       "4    501566512    0.542358  307.100000         0.155347   \n",
       "\n",
       "   fast_trough_t_long_square  fast_trough_t_ramp  fast_trough_t_short_square  \\\n",
       "0                      82.66            2.985247                    4.873333   \n",
       "1                      49.77            6.183945                    4.593000   \n",
       "2                      69.75            1.316427                    7.302000   \n",
       "3                      30.44            6.500155                    4.665833   \n",
       "4                      65.16            7.516707                    5.426667   \n",
       "\n",
       "   fast_trough_v_long_square  fast_trough_v_ramp  fast_trough_v_short_square  \\\n",
       "0                 -48.718750          -49.875001                  -51.500004   \n",
       "1                 -45.968754          -49.093754                  -53.800002   \n",
       "2                 -48.906250          -51.083335                  -55.800002   \n",
       "3                 -59.500000          -58.125004                  -61.609378   \n",
       "4                 -47.000000          -46.927086                  -55.093753   \n",
       "\n",
       "      ...           vrest  transgenic_line  binary_neuron        tau  \\\n",
       "0     ...      -66.085068  Chrna2-Cre_OE25     Inhibitory  12.149962   \n",
       "1     ...      -65.503044     Sst-IRES-Cre     Inhibitory  13.757958   \n",
       "2     ...      -72.174675     Cux2-CreERT2     Excitatory  21.945011   \n",
       "3     ...      -73.008224   Pvalb-IRES-Cre     Inhibitory   8.355113   \n",
       "4     ...      -80.050621  Ntsr1-Cre_GN220     Excitatory  14.181895   \n",
       "\n",
       "                      layer_full  acronym  firing_rate  height_short  \\\n",
       "0    Lateral visual area layer 5    VISl5    13.109023    105.031258   \n",
       "1  Primary visual area layer 2/3  VISp2/3     8.446150     81.287503   \n",
       "2    Primary visual area layer 4    VISp4    12.285836     84.887503   \n",
       "3    Primary visual area layer 5    VISp5    54.698103     88.661462   \n",
       "4   Primary visual area layer 6a   VISp6a     3.256268     97.416670   \n",
       "\n",
       "   height_long  height_ramp  \n",
       "0   105.218754   106.052087  \n",
       "1    59.187504    79.187505  \n",
       "2    82.187500    89.906253  \n",
       "3    80.437500    76.593754  \n",
       "4    87.781254    89.656255  \n",
       "\n",
       "[5 rows x 47 columns]"
      ]
     },
     "execution_count": 65,
     "metadata": {},
     "output_type": "execute_result"
    }
   ],
   "source": [
    "cre.head()"
   ]
  },
  {
   "cell_type": "code",
   "execution_count": 66,
   "metadata": {},
   "outputs": [],
   "source": [
    "VISp2 = cre['acronym'] == 'VISp2/3'\n",
    "VISp4 = cre['acronym'] == 'VISp4'\n",
    "VISp5 = cre['acronym'] == 'VISp5'\n",
    "VISp6a = cre['acronym'] == 'VISp6a'\n",
    "VISp6b = cre['acronym'] == 'VISp6b'\n",
    "Ctgf = cre['transgenic_line'] == 'Ctgf-T2A-dgCre'\n",
    "Cux2 = cre['transgenic_line'] == 'Cux2-CreERT2'\n",
    "Nr5a1= cre['transgenic_line'] == 'Nr5a1-Cre'\n",
    "Ntsr1 = cre['transgenic_line'] == 'Ntsr1-Cre_GN220'\n",
    "Rorb = cre['transgenic_line'] == 'Rorb-IRES2-Cre'\n",
    "ScnTg2 = cre['transgenic_line'] == 'Scnn1a-Tg2-Cre'\n",
    "ScnTg3 = cre['transgenic_line'] == 'Scnn1a-Tg3-Cre'\n",
    "Slc = cre['transgenic_line'] == 'Slc17a6-IRES-Cre'\n",
    "Rbp4 = cre['transgenic_line'] == 'Rbp4-Cre_KL100'"
   ]
  },
  {
   "cell_type": "code",
   "execution_count": 67,
   "metadata": {},
   "outputs": [
    {
     "data": {
      "text/plain": [
       "0.074303405572755415"
      ]
     },
     "execution_count": 67,
     "metadata": {},
     "output_type": "execute_result"
    }
   ],
   "source": [
    "Rbp4.mean()"
   ]
  },
  {
   "cell_type": "code",
   "execution_count": 68,
   "metadata": {},
   "outputs": [
    {
     "name": "stderr",
     "output_type": "stream",
     "text": [
      "/home/hyunsu/anaconda3/envs/allen/lib/python2.7/site-packages/ipykernel_launcher.py:2: SettingWithCopyWarning: \n",
      "A value is trying to be set on a copy of a slice from a DataFrame.\n",
      "Try using .loc[row_indexer,col_indexer] = value instead\n",
      "\n",
      "See the caveats in the documentation: http://pandas.pydata.org/pandas-docs/stable/indexing.html#indexing-view-versus-copy\n",
      "  \n"
     ]
    }
   ],
   "source": [
    "L2 = cre[VISp2 & (Cux2 | Slc | Rbp4)]\n",
    "L2['L_tg'] = \"L2tg\""
   ]
  },
  {
   "cell_type": "code",
   "execution_count": 69,
   "metadata": {},
   "outputs": [
    {
     "data": {
      "text/plain": [
       "24"
      ]
     },
     "execution_count": 69,
     "metadata": {},
     "output_type": "execute_result"
    }
   ],
   "source": [
    "len(L2)"
   ]
  },
  {
   "cell_type": "code",
   "execution_count": 70,
   "metadata": {},
   "outputs": [
    {
     "name": "stderr",
     "output_type": "stream",
     "text": [
      "/home/hyunsu/anaconda3/envs/allen/lib/python2.7/site-packages/ipykernel_launcher.py:2: SettingWithCopyWarning: \n",
      "A value is trying to be set on a copy of a slice from a DataFrame.\n",
      "Try using .loc[row_indexer,col_indexer] = value instead\n",
      "\n",
      "See the caveats in the documentation: http://pandas.pydata.org/pandas-docs/stable/indexing.html#indexing-view-versus-copy\n",
      "  \n"
     ]
    }
   ],
   "source": [
    "L4 = cre[VISp4 & (Nr5a1 | Rbp4 | Rorb | ScnTg2 | ScnTg3)]\n",
    "L4['L_tg'] = \"L4tg\""
   ]
  },
  {
   "cell_type": "code",
   "execution_count": 71,
   "metadata": {},
   "outputs": [
    {
     "data": {
      "text/plain": [
       "194"
      ]
     },
     "execution_count": 71,
     "metadata": {},
     "output_type": "execute_result"
    }
   ],
   "source": [
    "len(L4)"
   ]
  },
  {
   "cell_type": "code",
   "execution_count": 72,
   "metadata": {},
   "outputs": [
    {
     "name": "stderr",
     "output_type": "stream",
     "text": [
      "/home/hyunsu/anaconda3/envs/allen/lib/python2.7/site-packages/ipykernel_launcher.py:2: SettingWithCopyWarning: \n",
      "A value is trying to be set on a copy of a slice from a DataFrame.\n",
      "Try using .loc[row_indexer,col_indexer] = value instead\n",
      "\n",
      "See the caveats in the documentation: http://pandas.pydata.org/pandas-docs/stable/indexing.html#indexing-view-versus-copy\n",
      "  \n"
     ]
    }
   ],
   "source": [
    "L5 = cre[VISp5 & (Cux2 | Rbp4 | Rorb | ScnTg2 | ScnTg3)]\n",
    "L5['L_tg'] = \"L5tg\""
   ]
  },
  {
   "cell_type": "code",
   "execution_count": 73,
   "metadata": {},
   "outputs": [
    {
     "data": {
      "text/plain": [
       "105"
      ]
     },
     "execution_count": 73,
     "metadata": {},
     "output_type": "execute_result"
    }
   ],
   "source": [
    "len(L5)"
   ]
  },
  {
   "cell_type": "code",
   "execution_count": 74,
   "metadata": {},
   "outputs": [
    {
     "name": "stderr",
     "output_type": "stream",
     "text": [
      "/home/hyunsu/anaconda3/envs/allen/lib/python2.7/site-packages/ipykernel_launcher.py:2: SettingWithCopyWarning: \n",
      "A value is trying to be set on a copy of a slice from a DataFrame.\n",
      "Try using .loc[row_indexer,col_indexer] = value instead\n",
      "\n",
      "See the caveats in the documentation: http://pandas.pydata.org/pandas-docs/stable/indexing.html#indexing-view-versus-copy\n",
      "  \n"
     ]
    }
   ],
   "source": [
    "L6a = cre[VISp6a & (Ntsr1 | Rbp4 | Rorb | ScnTg3)]\n",
    "L6a['L_tg'] = \"L6atg\""
   ]
  },
  {
   "cell_type": "code",
   "execution_count": 75,
   "metadata": {},
   "outputs": [
    {
     "data": {
      "text/plain": [
       "50"
      ]
     },
     "execution_count": 75,
     "metadata": {},
     "output_type": "execute_result"
    }
   ],
   "source": [
    "len(L6a)"
   ]
  },
  {
   "cell_type": "code",
   "execution_count": 76,
   "metadata": {},
   "outputs": [
    {
     "name": "stderr",
     "output_type": "stream",
     "text": [
      "/home/hyunsu/anaconda3/envs/allen/lib/python2.7/site-packages/ipykernel_launcher.py:2: SettingWithCopyWarning: \n",
      "A value is trying to be set on a copy of a slice from a DataFrame.\n",
      "Try using .loc[row_indexer,col_indexer] = value instead\n",
      "\n",
      "See the caveats in the documentation: http://pandas.pydata.org/pandas-docs/stable/indexing.html#indexing-view-versus-copy\n",
      "  \n"
     ]
    }
   ],
   "source": [
    "L6b = cre[VISp6b & Ctgf]\n",
    "L6b['L_tg'] = \"L6btg\""
   ]
  },
  {
   "cell_type": "code",
   "execution_count": 77,
   "metadata": {},
   "outputs": [
    {
     "data": {
      "text/plain": [
       "7"
      ]
     },
     "execution_count": 77,
     "metadata": {},
     "output_type": "execute_result"
    }
   ],
   "source": [
    "len(L6b)"
   ]
  },
  {
   "cell_type": "code",
   "execution_count": 78,
   "metadata": {},
   "outputs": [],
   "source": [
    "layer_data = pd.concat([L2, L4, L5, L6a, L6b])"
   ]
  },
  {
   "cell_type": "code",
   "execution_count": 79,
   "metadata": {},
   "outputs": [
    {
     "data": {
      "text/plain": [
       "380"
      ]
     },
     "execution_count": 79,
     "metadata": {},
     "output_type": "execute_result"
    }
   ],
   "source": [
    "len(layer_data)"
   ]
  },
  {
   "cell_type": "code",
   "execution_count": 80,
   "metadata": {},
   "outputs": [],
   "source": [
    "cre.to_csv('cre_revised.csv', index = False)"
   ]
  },
  {
   "cell_type": "code",
   "execution_count": 81,
   "metadata": {},
   "outputs": [],
   "source": [
    "layer_data.to_csv('layer_revised.csv', index = False)"
   ]
  }
 ],
 "metadata": {
  "kernelspec": {
   "display_name": "Python 2",
   "language": "python",
   "name": "python2"
  },
  "language_info": {
   "codemirror_mode": {
    "name": "ipython",
    "version": 2
   },
   "file_extension": ".py",
   "mimetype": "text/x-python",
   "name": "python",
   "nbconvert_exporter": "python",
   "pygments_lexer": "ipython2",
   "version": "2.7.13"
  },
  "varInspector": {
   "cols": {
    "lenName": 16,
    "lenType": 16,
    "lenVar": 40
   },
   "kernels_config": {
    "python": {
     "delete_cmd_postfix": "",
     "delete_cmd_prefix": "del ",
     "library": "var_list.py",
     "varRefreshCmd": "print(var_dic_list())"
    },
    "r": {
     "delete_cmd_postfix": ") ",
     "delete_cmd_prefix": "rm(",
     "library": "var_list.r",
     "varRefreshCmd": "cat(var_dic_list()) "
    }
   },
   "types_to_exclude": [
    "module",
    "function",
    "builtin_function_or_method",
    "instance",
    "_Feature"
   ],
   "window_display": true
  }
 },
 "nbformat": 4,
 "nbformat_minor": 2
}
